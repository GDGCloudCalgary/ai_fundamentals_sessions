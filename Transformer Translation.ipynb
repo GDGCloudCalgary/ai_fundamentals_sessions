{
 "cells": [
  {
   "cell_type": "markdown",
   "metadata": {},
   "source": [
    "https://www.tensorflow.org/tutorials/text/transformer"
   ]
  },
  {
   "cell_type": "code",
   "execution_count": 2,
   "metadata": {},
   "outputs": [],
   "source": [
    "import tensorflow_datasets as tfds\n",
    "import tensorflow as tf\n",
    "\n",
    "import time\n",
    "import numpy as np\n",
    "import matplotlib.pyplot as plt"
   ]
  },
  {
   "cell_type": "code",
   "execution_count": 3,
   "metadata": {
    "scrolled": true
   },
   "outputs": [
    {
     "name": "stdout",
     "output_type": "stream",
     "text": [
      "\u001b[1mDownloading and preparing dataset ted_hrlr_translate/pt_to_en/1.0.0 (download: 124.94 MiB, generated: Unknown size, total: 124.94 MiB) to C:\\Users\\surya\\tensorflow_datasets\\ted_hrlr_translate\\pt_to_en\\1.0.0...\u001b[0m\n"
     ]
    },
    {
     "data": {
      "application/vnd.jupyter.widget-view+json": {
       "model_id": "40584e0ad8fb4220a804542bf9b8bd68",
       "version_major": 2,
       "version_minor": 0
      },
      "text/plain": [
       "HBox(children=(FloatProgress(value=1.0, bar_style='info', description='Dl Completed...', max=1.0, style=Progre…"
      ]
     },
     "metadata": {},
     "output_type": "display_data"
    },
    {
     "data": {
      "application/vnd.jupyter.widget-view+json": {
       "model_id": "a57a54ce28634f378d94e98d80e1b5bd",
       "version_major": 2,
       "version_minor": 0
      },
      "text/plain": [
       "HBox(children=(FloatProgress(value=1.0, bar_style='info', description='Dl Size...', max=1.0, style=ProgressSty…"
      ]
     },
     "metadata": {},
     "output_type": "display_data"
    },
    {
     "data": {
      "application/vnd.jupyter.widget-view+json": {
       "model_id": "4e6f27a573ec4bc8aab1ecc5b1fc89b7",
       "version_major": 2,
       "version_minor": 0
      },
      "text/plain": [
       "HBox(children=(FloatProgress(value=1.0, bar_style='info', description='Extraction completed...', max=1.0, styl…"
      ]
     },
     "metadata": {},
     "output_type": "display_data"
    },
    {
     "name": "stdout",
     "output_type": "stream",
     "text": [
      "\n",
      "\n",
      "\n",
      "\n",
      "\n",
      "\n"
     ]
    },
    {
     "data": {
      "application/vnd.jupyter.widget-view+json": {
       "model_id": "",
       "version_major": 2,
       "version_minor": 0
      },
      "text/plain": [
       "HBox(children=(FloatProgress(value=1.0, bar_style='info', max=1.0), HTML(value='')))"
      ]
     },
     "metadata": {},
     "output_type": "display_data"
    },
    {
     "name": "stdout",
     "output_type": "stream",
     "text": [
      "\r",
      "Shuffling and writing examples to C:\\Users\\surya\\tensorflow_datasets\\ted_hrlr_translate\\pt_to_en\\1.0.0.incompleteSUAP2T\\ted_hrlr_translate-train.tfrecord\n"
     ]
    },
    {
     "data": {
      "application/vnd.jupyter.widget-view+json": {
       "model_id": "91333f6e947f424d9797e0d8deac315c",
       "version_major": 2,
       "version_minor": 0
      },
      "text/plain": [
       "HBox(children=(FloatProgress(value=0.0, max=51785.0), HTML(value='')))"
      ]
     },
     "metadata": {},
     "output_type": "display_data"
    },
    {
     "name": "stdout",
     "output_type": "stream",
     "text": [
      "\r"
     ]
    },
    {
     "data": {
      "application/vnd.jupyter.widget-view+json": {
       "model_id": "",
       "version_major": 2,
       "version_minor": 0
      },
      "text/plain": [
       "HBox(children=(FloatProgress(value=1.0, bar_style='info', max=1.0), HTML(value='')))"
      ]
     },
     "metadata": {},
     "output_type": "display_data"
    },
    {
     "name": "stdout",
     "output_type": "stream",
     "text": [
      "\r",
      "Shuffling and writing examples to C:\\Users\\surya\\tensorflow_datasets\\ted_hrlr_translate\\pt_to_en\\1.0.0.incompleteSUAP2T\\ted_hrlr_translate-validation.tfrecord\n"
     ]
    },
    {
     "data": {
      "application/vnd.jupyter.widget-view+json": {
       "model_id": "09a75db0d0f64c499006047b16355e17",
       "version_major": 2,
       "version_minor": 0
      },
      "text/plain": [
       "HBox(children=(FloatProgress(value=0.0, max=1193.0), HTML(value='')))"
      ]
     },
     "metadata": {},
     "output_type": "display_data"
    },
    {
     "name": "stdout",
     "output_type": "stream",
     "text": [
      "\r"
     ]
    },
    {
     "data": {
      "application/vnd.jupyter.widget-view+json": {
       "model_id": "",
       "version_major": 2,
       "version_minor": 0
      },
      "text/plain": [
       "HBox(children=(FloatProgress(value=1.0, bar_style='info', max=1.0), HTML(value='')))"
      ]
     },
     "metadata": {},
     "output_type": "display_data"
    },
    {
     "name": "stdout",
     "output_type": "stream",
     "text": [
      "\r",
      "Shuffling and writing examples to C:\\Users\\surya\\tensorflow_datasets\\ted_hrlr_translate\\pt_to_en\\1.0.0.incompleteSUAP2T\\ted_hrlr_translate-test.tfrecord\n"
     ]
    },
    {
     "data": {
      "application/vnd.jupyter.widget-view+json": {
       "model_id": "2fedc88cd6824b8cb924e9ded695c559",
       "version_major": 2,
       "version_minor": 0
      },
      "text/plain": [
       "HBox(children=(FloatProgress(value=0.0, max=1803.0), HTML(value='')))"
      ]
     },
     "metadata": {},
     "output_type": "display_data"
    },
    {
     "name": "stdout",
     "output_type": "stream",
     "text": [
      "\u001b[1mDataset ted_hrlr_translate downloaded and prepared to C:\\Users\\surya\\tensorflow_datasets\\ted_hrlr_translate\\pt_to_en\\1.0.0. Subsequent calls will reuse this data.\u001b[0m\n",
      "\r"
     ]
    }
   ],
   "source": [
    "examples, metadata = tfds.load('ted_hrlr_translate/pt_to_en', with_info=True,\n",
    "                               as_supervised=True)"
   ]
  },
  {
   "cell_type": "code",
   "execution_count": 4,
   "metadata": {},
   "outputs": [],
   "source": [
    "train_examples, val_examples = examples['train'], examples['validation']"
   ]
  },
  {
   "cell_type": "code",
   "execution_count": 6,
   "metadata": {},
   "outputs": [],
   "source": [
    "tokenizer_en = tfds.features.text.SubwordTextEncoder.build_from_corpus(\n",
    "    (en.numpy() for pt, en in train_examples), target_vocab_size=2**13)\n",
    "\n",
    "tokenizer_pt = tfds.features.text.SubwordTextEncoder.build_from_corpus(\n",
    "    (pt.numpy() for pt, en in train_examples), target_vocab_size=2**13)"
   ]
  },
  {
   "cell_type": "code",
   "execution_count": 7,
   "metadata": {},
   "outputs": [
    {
     "name": "stdout",
     "output_type": "stream",
     "text": [
      "Tokenized string is [7915, 1248, 7946, 7194, 13, 2799, 7877]\n",
      "The original string: Transformer is awesome.\n"
     ]
    }
   ],
   "source": [
    "sample_string = 'Transformer is awesome.'\n",
    "\n",
    "tokenized_string = tokenizer_en.encode(sample_string)\n",
    "print ('Tokenized string is {}'.format(tokenized_string))\n",
    "\n",
    "original_string = tokenizer_en.decode(tokenized_string)\n",
    "print ('The original string: {}'.format(original_string))\n",
    "\n",
    "assert original_string == sample_string"
   ]
  },
  {
   "cell_type": "code",
   "execution_count": null,
   "metadata": {},
   "outputs": [],
   "source": [
    "for ts in tokenized_string:\n",
    "    print ('{} ----> {}'.format(ts, tokenizer_en.decode([ts])))"
   ]
  },
  {
   "cell_type": "code",
   "execution_count": 8,
   "metadata": {},
   "outputs": [],
   "source": [
    "BUFFER_SIZE = 20000\n",
    "BATCH_SIZE = 64"
   ]
  },
  {
   "cell_type": "code",
   "execution_count": 9,
   "metadata": {},
   "outputs": [],
   "source": [
    "def encode(lang1, lang2):\n",
    "    lang1 = [tokenizer_pt.vocab_size] + tokenizer_pt.encode(\n",
    "      lang1.numpy()) + [tokenizer_pt.vocab_size+1]\n",
    "\n",
    "    lang2 = [tokenizer_en.vocab_size] + tokenizer_en.encode(\n",
    "      lang2.numpy()) + [tokenizer_en.vocab_size+1]\n",
    "  \n",
    "    return lang1, lang2\n",
    "\n",
    "def tf_encode(pt, en):\n",
    "    result_pt, result_en = tf.py_function(encode, [pt, en], [tf.int64, tf.int64])\n",
    "    result_pt.set_shape([None])\n",
    "    result_en.set_shape([None])\n",
    "    return result_pt, result_en"
   ]
  },
  {
   "cell_type": "markdown",
   "metadata": {},
   "source": [
    "Graph tensors do not have a value.\n",
    "In graph mode you can only use TensorFlow Ops and functions."
   ]
  },
  {
   "cell_type": "code",
   "execution_count": 12,
   "metadata": {},
   "outputs": [],
   "source": [
    "MAX_LENGTH = 40\n",
    "def filter_max_length(x, y, max_length=MAX_LENGTH):\n",
    "    return tf.logical_and(tf.size(x) <= max_length, tf.size(y) <= max_length)"
   ]
  },
  {
   "cell_type": "code",
   "execution_count": 13,
   "metadata": {},
   "outputs": [],
   "source": [
    "#runs in graph mode\n",
    "train_dataset = train_examples.map(tf_encode)\n",
    "train_dataset = train_dataset.filter(filter_max_length)\n",
    "# cache the dataset to memory to get a speedup while reading from it.\n",
    "train_dataset = train_dataset.cache()\n",
    "train_dataset = train_dataset.shuffle(BUFFER_SIZE).padded_batch(BATCH_SIZE)\n",
    "train_dataset = train_dataset.prefetch(tf.data.experimental.AUTOTUNE)\n",
    "\n",
    "\n",
    "val_dataset = val_examples.map(tf_encode)\n",
    "val_dataset = val_dataset.filter(filter_max_length).padded_batch(BATCH_SIZE)"
   ]
  },
  {
   "cell_type": "code",
   "execution_count": 14,
   "metadata": {},
   "outputs": [
    {
     "data": {
      "text/plain": [
       "(<tf.Tensor: shape=(64, 38), dtype=int64, numpy=\n",
       " array([[8214,  342, 3032, ...,    0,    0,    0],\n",
       "        [8214,   95,  198, ...,    0,    0,    0],\n",
       "        [8214, 4479, 7990, ...,    0,    0,    0],\n",
       "        ...,\n",
       "        [8214,  584,   12, ...,    0,    0,    0],\n",
       "        [8214,   59, 1548, ...,    0,    0,    0],\n",
       "        [8214,  118,   34, ...,    0,    0,    0]], dtype=int64)>,\n",
       " <tf.Tensor: shape=(64, 40), dtype=int64, numpy=\n",
       " array([[8087,   98,   25, ...,    0,    0,    0],\n",
       "        [8087,   12,   20, ...,    0,    0,    0],\n",
       "        [8087,   12, 5453, ...,    0,    0,    0],\n",
       "        ...,\n",
       "        [8087,   18, 2059, ...,    0,    0,    0],\n",
       "        [8087,   16, 1436, ...,    0,    0,    0],\n",
       "        [8087,   15,   57, ...,    0,    0,    0]], dtype=int64)>)"
      ]
     },
     "execution_count": 14,
     "metadata": {},
     "output_type": "execute_result"
    }
   ],
   "source": [
    "pt_batch, en_batch = next(iter(val_dataset))\n",
    "pt_batch, en_batch"
   ]
  },
  {
   "cell_type": "code",
   "execution_count": 15,
   "metadata": {},
   "outputs": [],
   "source": [
    "def get_angles(pos, i, d_model):\n",
    "    angle_rates = 1 / np.power(10000, (2 * (i//2)) / np.float32(d_model))\n",
    "    return pos * angle_rates"
   ]
  },
  {
   "cell_type": "code",
   "execution_count": 16,
   "metadata": {},
   "outputs": [],
   "source": [
    "def positional_encoding(position, d_model):\n",
    "    angle_rads = get_angles(np.arange(position)[:, np.newaxis],\n",
    "                          np.arange(d_model)[np.newaxis, :],\n",
    "                          d_model)\n",
    "  \n",
    "    # apply sin to even indices in the array; 2i\n",
    "    angle_rads[:, 0::2] = np.sin(angle_rads[:, 0::2])\n",
    "  \n",
    "    # apply cos to odd indices in the array; 2i+1\n",
    "    angle_rads[:, 1::2] = np.cos(angle_rads[:, 1::2])\n",
    "    \n",
    "    pos_encoding = angle_rads[np.newaxis, ...]\n",
    "    \n",
    "    return tf.cast(pos_encoding, dtype=tf.float32)"
   ]
  },
  {
   "cell_type": "code",
   "execution_count": 17,
   "metadata": {},
   "outputs": [
    {
     "name": "stdout",
     "output_type": "stream",
     "text": [
      "(1, 50, 512)\n"
     ]
    },
    {
     "data": {
      "image/png": "[encoded data removed]",
      "text/plain": [
       "<Figure size 432x288 with 2 Axes>"
      ]
     },
     "metadata": {
      "needs_background": "light"
     },
     "output_type": "display_data"
    }
   ],
   "source": [
    "#A visualization of positional encoding for understanding \n",
    "pos_encoding = positional_encoding(50, 512)\n",
    "print (pos_encoding.shape)\n",
    "\n",
    "plt.pcolormesh(pos_encoding[0], cmap='RdBu')\n",
    "plt.xlabel('Depth')\n",
    "plt.xlim((0, 512))\n",
    "plt.ylabel('Position')\n",
    "plt.colorbar()\n",
    "plt.show()"
   ]
  },
  {
   "cell_type": "code",
   "execution_count": 19,
   "metadata": {},
   "outputs": [],
   "source": [
    "def create_padding_mask(seq):\n",
    "    seq = tf.cast(tf.math.equal(seq, 0), tf.float32)\n",
    "  \n",
    "    # add extra dimensions to add the padding\n",
    "    # to the attention logits.\n",
    "    return seq[:, tf.newaxis, tf.newaxis, :]  # (batch_size, 1, 1, seq_len)"
   ]
  },
  {
   "cell_type": "code",
   "execution_count": 20,
   "metadata": {},
   "outputs": [
    {
     "data": {
      "text/plain": [
       "<tf.Tensor: shape=(3, 1, 1, 5), dtype=float32, numpy=\n",
       "array([[[[0., 0., 1., 1., 0.]]],\n",
       "\n",
       "\n",
       "       [[[0., 0., 0., 1., 1.]]],\n",
       "\n",
       "\n",
       "       [[[1., 1., 1., 0., 0.]]]], dtype=float32)>"
      ]
     },
     "execution_count": 20,
     "metadata": {},
     "output_type": "execute_result"
    }
   ],
   "source": [
    "x = tf.constant([[7, 6, 0, 0, 1], [1, 2, 3, 0, 0], [0, 0, 0, 4, 5]])\n",
    "create_padding_mask(x)"
   ]
  },
  {
   "cell_type": "code",
   "execution_count": 21,
   "metadata": {},
   "outputs": [],
   "source": [
    "def create_look_ahead_mask(size):\n",
    "    mask = 1 - tf.linalg.band_part(tf.ones((size, size)), -1, 0)\n",
    "    return mask  # (seq_len, seq_len)"
   ]
  },
  {
   "cell_type": "code",
   "execution_count": 23,
   "metadata": {},
   "outputs": [
    {
     "name": "stdout",
     "output_type": "stream",
     "text": [
      "tf.Tensor([[0.4716047  0.29534173 0.6013899 ]], shape=(1, 3), dtype=float32)\n"
     ]
    },
    {
     "data": {
      "text/plain": [
       "<tf.Tensor: shape=(3, 3), dtype=float32, numpy=\n",
       "array([[0., 1., 1.],\n",
       "       [0., 0., 1.],\n",
       "       [0., 0., 0.]], dtype=float32)>"
      ]
     },
     "execution_count": 23,
     "metadata": {},
     "output_type": "execute_result"
    }
   ],
   "source": [
    "x = tf.random.uniform((1, 3))\n",
    "print(x)\n",
    "temp = create_look_ahead_mask(x.shape[1])\n",
    "temp"
   ]
  },
  {
   "cell_type": "code",
   "execution_count": 24,
   "metadata": {},
   "outputs": [],
   "source": [
    "def scaled_dot_product_attention(q, k, v, mask):\n",
    "    \n",
    "    \"\"\"Calculate the attention weights.\n",
    "    q, k, v must have matching leading dimensions.\n",
    "    k, v must have matching penultimate dimension, i.e.: seq_len_k = seq_len_v.\n",
    "    The mask has different shapes depending on its type(padding or look ahead) \n",
    "    but it must be broadcastable for addition.\n",
    "    \n",
    "    Args:\n",
    "      q: query shape == (..., seq_len_q, depth)\n",
    "      k: key shape == (..., seq_len_k, depth)\n",
    "      v: value shape == (..., seq_len_v, depth_v)\n",
    "      mask: Float tensor with shape broadcastable \n",
    "            to (..., seq_len_q, seq_len_k). Defaults to None.\n",
    "      \n",
    "    Returns:\n",
    "      output, attention_weights\n",
    "    \"\"\"\n",
    "\n",
    "    matmul_qk = tf.matmul(q, k, transpose_b=True)  # (..., seq_len_q, seq_len_k)\n",
    "    \n",
    "    # scale matmul_qk\n",
    "    dk = tf.cast(tf.shape(k)[-1], tf.float32)\n",
    "    scaled_attention_logits = matmul_qk / tf.math.sqrt(dk)\n",
    "\n",
    "    # add the mask to the scaled tensor.\n",
    "    if mask is not None:\n",
    "        scaled_attention_logits += (mask * -1e9)  \n",
    "\n",
    "    # softmax is normalized on the last axis (seq_len_k) so that the scores\n",
    "    # add up to 1.\n",
    "    attention_weights = tf.nn.softmax(scaled_attention_logits, axis=-1)  # (..., seq_len_q, seq_len_k)\n",
    "\n",
    "    output = tf.matmul(attention_weights, v)  # (..., seq_len_q, depth_v)\n",
    "\n",
    "    return output, attention_weights"
   ]
  },
  {
   "cell_type": "code",
   "execution_count": 25,
   "metadata": {},
   "outputs": [],
   "source": [
    "def print_out(q, k, v):\n",
    "    temp_out, temp_attn = scaled_dot_product_attention(\n",
    "        q, k, v, None)\n",
    "    print ('Attention weights are:')\n",
    "    print (temp_attn)\n",
    "    print ('Output is:')\n",
    "    print (temp_out)"
   ]
  },
  {
   "cell_type": "code",
   "execution_count": 26,
   "metadata": {},
   "outputs": [
    {
     "name": "stdout",
     "output_type": "stream",
     "text": [
      "Attention weights are:\n",
      "tf.Tensor([[0. 1. 0. 0.]], shape=(1, 4), dtype=float32)\n",
      "Output is:\n",
      "tf.Tensor([[10.  0.]], shape=(1, 2), dtype=float32)\n"
     ]
    }
   ],
   "source": [
    "np.set_printoptions(suppress=True)\n",
    "\n",
    "temp_k = tf.constant([[10,0,0],\n",
    "                      [0,10,0],\n",
    "                      [0,0,10],\n",
    "                      [0,0,10]], dtype=tf.float32)  # (4, 3)\n",
    "\n",
    "temp_v = tf.constant([[   1,0],\n",
    "                      [  10,0],\n",
    "                      [ 100,5],\n",
    "                      [1000,6]], dtype=tf.float32)  # (4, 2)\n",
    "\n",
    "# This `query` aligns with the second `key`,\n",
    "# so the second `value` is returned.\n",
    "temp_q = tf.constant([[0, 10, 0]], dtype=tf.float32)  # (1, 3)\n",
    "print_out(temp_q, temp_k, temp_v)"
   ]
  },
  {
   "cell_type": "code",
   "execution_count": 27,
   "metadata": {},
   "outputs": [
    {
     "name": "stdout",
     "output_type": "stream",
     "text": [
      "Attention weights are:\n",
      "tf.Tensor([[0.  0.  0.5 0.5]], shape=(1, 4), dtype=float32)\n",
      "Output is:\n",
      "tf.Tensor([[550.    5.5]], shape=(1, 2), dtype=float32)\n"
     ]
    }
   ],
   "source": [
    "# This query aligns with a repeated key (third and fourth), \n",
    "# so all associated values get averaged.\n",
    "temp_q = tf.constant([[0, 0, 10]], dtype=tf.float32)  # (1, 3)\n",
    "print_out(temp_q, temp_k, temp_v)"
   ]
  },
  {
   "cell_type": "code",
   "execution_count": 28,
   "metadata": {},
   "outputs": [
    {
     "name": "stdout",
     "output_type": "stream",
     "text": [
      "Attention weights are:\n",
      "tf.Tensor(\n",
      "[[0.  0.  0.5 0.5]\n",
      " [0.  1.  0.  0. ]\n",
      " [0.5 0.5 0.  0. ]], shape=(3, 4), dtype=float32)\n",
      "Output is:\n",
      "tf.Tensor(\n",
      "[[550.    5.5]\n",
      " [ 10.    0. ]\n",
      " [  5.5   0. ]], shape=(3, 2), dtype=float32)\n"
     ]
    }
   ],
   "source": [
    "temp_q = tf.constant([[0, 0, 10], [0, 10, 0], [10, 10, 0]], dtype=tf.float32)  # (3, 3)\n",
    "print_out(temp_q, temp_k, temp_v)"
   ]
  },
  {
   "cell_type": "code",
   "execution_count": 29,
   "metadata": {},
   "outputs": [],
   "source": [
    "class MultiHeadAttention(tf.keras.layers.Layer):\n",
    "    \n",
    "    def __init__(self, d_model, num_heads):\n",
    "        super(MultiHeadAttention, self).__init__()\n",
    "        self.num_heads = num_heads\n",
    "        self.d_model = d_model\n",
    "        \n",
    "        assert d_model % self.num_heads == 0\n",
    "        \n",
    "        self.depth = d_model // self.num_heads\n",
    "        \n",
    "        self.wq = tf.keras.layers.Dense(d_model)\n",
    "        self.wk = tf.keras.layers.Dense(d_model)\n",
    "        self.wv = tf.keras.layers.Dense(d_model)\n",
    "        \n",
    "        self.dense = tf.keras.layers.Dense(d_model)\n",
    "          \n",
    "    def split_heads(self, x, batch_size):\n",
    "        \"\"\"Split the last dimension into (num_heads, depth).\n",
    "        Transpose the result such that the shape is (batch_size, num_heads, seq_len, depth)\n",
    "        \"\"\"\n",
    "        x = tf.reshape(x, (batch_size, -1, self.num_heads, self.depth))\n",
    "        return tf.transpose(x, perm=[0, 2, 1, 3])\n",
    "      \n",
    "    def call(self, v, k, q, mask):\n",
    "        batch_size = tf.shape(q)[0]\n",
    "        \n",
    "        q = self.wq(q)  # (batch_size, seq_len, d_model)\n",
    "        k = self.wk(k)  # (batch_size, seq_len, d_model)\n",
    "        v = self.wv(v)  # (batch_size, seq_len, d_model)\n",
    "        \n",
    "        q = self.split_heads(q, batch_size)  # (batch_size, num_heads, seq_len_q, depth)\n",
    "        k = self.split_heads(k, batch_size)  # (batch_size, num_heads, seq_len_k, depth)\n",
    "        v = self.split_heads(v, batch_size)  # (batch_size, num_heads, seq_len_v, depth)\n",
    "        \n",
    "        # scaled_attention.shape == (batch_size, num_heads, seq_len_q, depth)\n",
    "        # attention_weights.shape == (batch_size, num_heads, seq_len_q, seq_len_k)\n",
    "        scaled_attention, attention_weights = scaled_dot_product_attention(\n",
    "            q, k, v, mask)\n",
    "        \n",
    "        scaled_attention = tf.transpose(scaled_attention, perm=[0, 2, 1, 3])  # (batch_size, seq_len_q, num_heads, depth)\n",
    "  \n",
    "        concat_attention = tf.reshape(scaled_attention, \n",
    "                                      (batch_size, -1, self.d_model))  # (batch_size, seq_len_q, d_model)\n",
    "  \n",
    "        output = self.dense(concat_attention)  # (batch_size, seq_len_q, d_model)\n",
    "            \n",
    "        return output, attention_weights"
   ]
  },
  {
   "cell_type": "code",
   "execution_count": 30,
   "metadata": {},
   "outputs": [
    {
     "data": {
      "text/plain": [
       "(TensorShape([1, 60, 512]), TensorShape([1, 8, 60, 60]))"
      ]
     },
     "execution_count": 30,
     "metadata": {},
     "output_type": "execute_result"
    }
   ],
   "source": [
    "temp_mha = MultiHeadAttention(d_model=512, num_heads=8)\n",
    "y = tf.random.uniform((1, 60, 512))  # (batch_size, encoder_sequence, d_model)\n",
    "out, attn = temp_mha(y, k=y, q=y, mask=None)\n",
    "out.shape, attn.shape"
   ]
  },
  {
   "cell_type": "code",
   "execution_count": 31,
   "metadata": {},
   "outputs": [],
   "source": [
    "def point_wise_feed_forward_network(d_model, dff):\n",
    "    return tf.keras.Sequential([\n",
    "      tf.keras.layers.Dense(dff, activation='relu'),  # (batch_size, seq_len, dff)\n",
    "      tf.keras.layers.Dense(d_model)  # (batch_size, seq_len, d_model)\n",
    "  ])"
   ]
  },
  {
   "cell_type": "code",
   "execution_count": 32,
   "metadata": {},
   "outputs": [
    {
     "data": {
      "text/plain": [
       "TensorShape([64, 50, 512])"
      ]
     },
     "execution_count": 32,
     "metadata": {},
     "output_type": "execute_result"
    }
   ],
   "source": [
    "sample_ffn = point_wise_feed_forward_network(512, 2048)\n",
    "sample_ffn(tf.random.uniform((64, 50, 512))).shape"
   ]
  },
  {
   "cell_type": "code",
   "execution_count": 33,
   "metadata": {},
   "outputs": [],
   "source": [
    "class EncoderLayer(tf.keras.layers.Layer):\n",
    "    def __init__(self, d_model, num_heads, dff, rate=0.1):\n",
    "        super(EncoderLayer, self).__init__()\n",
    "  \n",
    "        self.mha = MultiHeadAttention(d_model, num_heads)\n",
    "        self.ffn = point_wise_feed_forward_network(d_model, dff)\n",
    "  \n",
    "        self.layernorm1 = tf.keras.layers.LayerNormalization(epsilon=1e-6)\n",
    "        self.layernorm2 = tf.keras.layers.LayerNormalization(epsilon=1e-6)\n",
    "        \n",
    "        self.dropout1 = tf.keras.layers.Dropout(rate)\n",
    "        self.dropout2 = tf.keras.layers.Dropout(rate)\n",
    "        \n",
    "    def call(self, x, training, mask):\n",
    "\n",
    "        attn_output, _ = self.mha(x, x, x, mask)  # (batch_size, input_seq_len, d_model)\n",
    "        attn_output = self.dropout1(attn_output, training=training)\n",
    "        out1 = self.layernorm1(x + attn_output)  # (batch_size, input_seq_len, d_model)\n",
    "        \n",
    "        ffn_output = self.ffn(out1)  # (batch_size, input_seq_len, d_model)\n",
    "        ffn_output = self.dropout2(ffn_output, training=training)\n",
    "        out2 = self.layernorm2(out1 + ffn_output)  # (batch_size, input_seq_len, d_model)\n",
    "        \n",
    "        return out2"
   ]
  },
  {
   "cell_type": "code",
   "execution_count": 34,
   "metadata": {},
   "outputs": [
    {
     "data": {
      "text/plain": [
       "TensorShape([64, 43, 512])"
      ]
     },
     "execution_count": 34,
     "metadata": {},
     "output_type": "execute_result"
    }
   ],
   "source": [
    "sample_encoder_layer = EncoderLayer(512, 8, 2048)\n",
    "\n",
    "sample_encoder_layer_output = sample_encoder_layer(\n",
    "    tf.random.uniform((64, 43, 512)), False, None)\n",
    "\n",
    "sample_encoder_layer_output.shape  # (batch_size, input_seq_len, d_model)"
   ]
  },
  {
   "cell_type": "code",
   "execution_count": 35,
   "metadata": {},
   "outputs": [],
   "source": [
    "class DecoderLayer(tf.keras.layers.Layer):\n",
    "    def __init__(self, d_model, num_heads, dff, rate=0.1):\n",
    "        super(DecoderLayer, self).__init__()\n",
    "\n",
    "        self.mha1 = MultiHeadAttention(d_model, num_heads)\n",
    "        self.mha2 = MultiHeadAttention(d_model, num_heads)\n",
    "\n",
    "        self.ffn = point_wise_feed_forward_network(d_model, dff)\n",
    "    \n",
    "        self.layernorm1 = tf.keras.layers.LayerNormalization(epsilon=1e-6)\n",
    "        self.layernorm2 = tf.keras.layers.LayerNormalization(epsilon=1e-6)\n",
    "        self.layernorm3 = tf.keras.layers.LayerNormalization(epsilon=1e-6)\n",
    "        \n",
    "        self.dropout1 = tf.keras.layers.Dropout(rate)\n",
    "        self.dropout2 = tf.keras.layers.Dropout(rate)\n",
    "        self.dropout3 = tf.keras.layers.Dropout(rate)\n",
    "      \n",
    "      \n",
    "    def call(self, x, enc_output, training, \n",
    "             look_ahead_mask, padding_mask):\n",
    "        # enc_output.shape == (batch_size, input_seq_len, d_model)\n",
    "  \n",
    "        attn1, attn_weights_block1 = self.mha1(x, x, x, look_ahead_mask)  # (batch_size, target_seq_len, d_model)\n",
    "        attn1 = self.dropout1(attn1, training=training)\n",
    "        out1 = self.layernorm1(attn1 + x)\n",
    "        \n",
    "        attn2, attn_weights_block2 = self.mha2(\n",
    "            enc_output, enc_output, out1, padding_mask)  # (batch_size, target_seq_len, d_model)\n",
    "        attn2 = self.dropout2(attn2, training=training)\n",
    "        out2 = self.layernorm2(attn2 + out1)  # (batch_size, target_seq_len, d_model)\n",
    "        \n",
    "        ffn_output = self.ffn(out2)  # (batch_size, target_seq_len, d_model)\n",
    "        ffn_output = self.dropout3(ffn_output, training=training)\n",
    "        out3 = self.layernorm3(ffn_output + out2)  # (batch_size, target_seq_len, d_model)\n",
    "        \n",
    "        return out3, attn_weights_block1, attn_weights_block2"
   ]
  },
  {
   "cell_type": "code",
   "execution_count": 36,
   "metadata": {},
   "outputs": [
    {
     "data": {
      "text/plain": [
       "TensorShape([64, 50, 512])"
      ]
     },
     "execution_count": 36,
     "metadata": {},
     "output_type": "execute_result"
    }
   ],
   "source": [
    "sample_decoder_layer = DecoderLayer(512, 8, 2048)\n",
    "\n",
    "sample_decoder_layer_output, _, _ = sample_decoder_layer(\n",
    "    tf.random.uniform((64, 50, 512)), sample_encoder_layer_output, \n",
    "    False, None, None)\n",
    "\n",
    "sample_decoder_layer_output.shape  # (batch_size, target_seq_len, d_model)"
   ]
  },
  {
   "cell_type": "code",
   "execution_count": 38,
   "metadata": {},
   "outputs": [],
   "source": [
    "class Encoder(tf.keras.layers.Layer):\n",
    "    def __init__(self, num_layers, d_model, num_heads, dff, input_vocab_size,\n",
    "                 maximum_position_encoding, rate=0.1):\n",
    "        super(Encoder, self).__init__()\n",
    "\n",
    "        self.d_model = d_model\n",
    "        self.num_layers = num_layers\n",
    "        \n",
    "        self.embedding = tf.keras.layers.Embedding(input_vocab_size, d_model)\n",
    "        self.pos_encoding = positional_encoding(maximum_position_encoding, \n",
    "                                                self.d_model)\n",
    "        \n",
    "        \n",
    "        self.enc_layers = [EncoderLayer(d_model, num_heads, dff, rate) \n",
    "                           for _ in range(num_layers)]\n",
    "    \n",
    "        self.dropout = tf.keras.layers.Dropout(rate)\n",
    "          \n",
    "    def call(self, x, training, mask):\n",
    "\n",
    "        seq_len = tf.shape(x)[1]\n",
    "        \n",
    "        # adding embedding and position encoding.\n",
    "        x = self.embedding(x)  # (batch_size, input_seq_len, d_model)\n",
    "        x *= tf.math.sqrt(tf.cast(self.d_model, tf.float32))\n",
    "        x += self.pos_encoding[:, :seq_len, :]\n",
    "\n",
    "        x = self.dropout(x, training=training)\n",
    "        \n",
    "        for i in range(self.num_layers):\n",
    "          x = self.enc_layers[i](x, training, mask)\n",
    "        \n",
    "        return x  # (batch_size, input_seq_len, d_model)"
   ]
  },
  {
   "cell_type": "code",
   "execution_count": 39,
   "metadata": {},
   "outputs": [
    {
     "name": "stdout",
     "output_type": "stream",
     "text": [
      "(64, 62, 512)\n"
     ]
    }
   ],
   "source": [
    "sample_encoder = Encoder(num_layers=2, d_model=512, num_heads=8, \n",
    "                         dff=2048, input_vocab_size=8500,\n",
    "                         maximum_position_encoding=10000)\n",
    "temp_input = tf.random.uniform((64, 62), dtype=tf.int64, minval=0, maxval=200)\n",
    "\n",
    "sample_encoder_output = sample_encoder(temp_input, training=False, mask=None)\n",
    "\n",
    "print (sample_encoder_output.shape)  # (batch_size, input_seq_len, d_model)"
   ]
  },
  {
   "cell_type": "code",
   "execution_count": 40,
   "metadata": {},
   "outputs": [],
   "source": [
    "class Decoder(tf.keras.layers.Layer):\n",
    "    def __init__(self, num_layers, d_model, num_heads, dff, target_vocab_size,\n",
    "                 maximum_position_encoding, rate=0.1):\n",
    "        super(Decoder, self).__init__()\n",
    "\n",
    "        self.d_model = d_model\n",
    "        self.num_layers = num_layers\n",
    "        \n",
    "        self.embedding = tf.keras.layers.Embedding(target_vocab_size, d_model)\n",
    "        self.pos_encoding = positional_encoding(maximum_position_encoding, d_model)\n",
    "        \n",
    "        self.dec_layers = [DecoderLayer(d_model, num_heads, dff, rate) \n",
    "                           for _ in range(num_layers)]\n",
    "        self.dropout = tf.keras.layers.Dropout(rate)\n",
    "      \n",
    "    def call(self, x, enc_output, training, \n",
    "             look_ahead_mask, padding_mask):\n",
    "        \n",
    "        seq_len = tf.shape(x)[1]\n",
    "        attention_weights = {}\n",
    "        \n",
    "        x = self.embedding(x)  # (batch_size, target_seq_len, d_model)\n",
    "        x *= tf.math.sqrt(tf.cast(self.d_model, tf.float32))\n",
    "        x += self.pos_encoding[:, :seq_len, :]\n",
    "        \n",
    "        x = self.dropout(x, training=training)\n",
    "\n",
    "        for i in range(self.num_layers):\n",
    "            x, block1, block2 = self.dec_layers[i](x, enc_output, training,\n",
    "                                                   look_ahead_mask, padding_mask)\n",
    "            \n",
    "            attention_weights['decoder_layer{}_block1'.format(i+1)] = block1\n",
    "            attention_weights['decoder_layer{}_block2'.format(i+1)] = block2\n",
    "        \n",
    "        # x.shape == (batch_size, target_seq_len, d_model)\n",
    "        return x, attention_weights"
   ]
  },
  {
   "cell_type": "code",
   "execution_count": 41,
   "metadata": {},
   "outputs": [
    {
     "data": {
      "text/plain": [
       "(TensorShape([64, 26, 512]), TensorShape([64, 8, 26, 62]))"
      ]
     },
     "execution_count": 41,
     "metadata": {},
     "output_type": "execute_result"
    }
   ],
   "source": [
    "sample_decoder = Decoder(num_layers=2, d_model=512, num_heads=8, \n",
    "                         dff=2048, target_vocab_size=8000,\n",
    "                         maximum_position_encoding=5000)\n",
    "temp_input = tf.random.uniform((64, 26), dtype=tf.int64, minval=0, maxval=200)\n",
    "\n",
    "output, attn = sample_decoder(temp_input, \n",
    "                              enc_output=sample_encoder_output, \n",
    "                              training=False,\n",
    "                              look_ahead_mask=None, \n",
    "                              padding_mask=None)\n",
    "\n",
    "output.shape, attn['decoder_layer2_block2'].shape"
   ]
  },
  {
   "cell_type": "code",
   "execution_count": 42,
   "metadata": {},
   "outputs": [],
   "source": [
    "class Transformer(tf.keras.Model):\n",
    "    def __init__(self, num_layers, d_model, num_heads, dff, input_vocab_size, \n",
    "                 target_vocab_size, pe_input, pe_target, rate=0.1):\n",
    "        super(Transformer, self).__init__()\n",
    "  \n",
    "        self.encoder = Encoder(num_layers, d_model, num_heads, dff, \n",
    "                               input_vocab_size, pe_input, rate)\n",
    "  \n",
    "        self.decoder = Decoder(num_layers, d_model, num_heads, dff, \n",
    "                               target_vocab_size, pe_target, rate)\n",
    "  \n",
    "        self.final_layer = tf.keras.layers.Dense(target_vocab_size)\n",
    "        \n",
    "    def call(self, inp, tar, training, enc_padding_mask, \n",
    "             look_ahead_mask, dec_padding_mask):\n",
    "\n",
    "        enc_output = self.encoder(inp, training, enc_padding_mask)  # (batch_size, inp_seq_len, d_model)\n",
    "        \n",
    "        # dec_output.shape == (batch_size, tar_seq_len, d_model)\n",
    "        dec_output, attention_weights = self.decoder(\n",
    "            tar, enc_output, training, look_ahead_mask, dec_padding_mask)\n",
    "        \n",
    "        final_output = self.final_layer(dec_output)  # (batch_size, tar_seq_len, target_vocab_size)\n",
    "        \n",
    "        return final_output, attention_weights"
   ]
  },
  {
   "cell_type": "code",
   "execution_count": 43,
   "metadata": {},
   "outputs": [
    {
     "data": {
      "text/plain": [
       "TensorShape([64, 36, 8000])"
      ]
     },
     "execution_count": 43,
     "metadata": {},
     "output_type": "execute_result"
    }
   ],
   "source": [
    "sample_transformer = Transformer(\n",
    "    num_layers=2, d_model=512, num_heads=8, dff=2048, \n",
    "    input_vocab_size=8500, target_vocab_size=8000, \n",
    "    pe_input=10000, pe_target=6000)\n",
    "\n",
    "temp_input = tf.random.uniform((64, 38), dtype=tf.int64, minval=0, maxval=200)\n",
    "temp_target = tf.random.uniform((64, 36), dtype=tf.int64, minval=0, maxval=200)\n",
    "\n",
    "fn_out, _ = sample_transformer(temp_input, temp_target, training=False, \n",
    "                               enc_padding_mask=None, \n",
    "                               look_ahead_mask=None,\n",
    "                               dec_padding_mask=None)\n",
    "\n",
    "fn_out.shape  # (batch_size, tar_seq_len, target_vocab_size)"
   ]
  },
  {
   "cell_type": "code",
   "execution_count": 45,
   "metadata": {},
   "outputs": [],
   "source": [
    "num_layers = 4\n",
    "d_model = 128\n",
    "dff = 512\n",
    "num_heads = 8\n",
    "\n",
    "input_vocab_size = tokenizer_pt.vocab_size + 2\n",
    "target_vocab_size = tokenizer_en.vocab_size + 2\n",
    "dropout_rate = 0.1"
   ]
  },
  {
   "cell_type": "code",
   "execution_count": null,
   "metadata": {},
   "outputs": [],
   "source": []
  },
  {
   "cell_type": "code",
   "execution_count": 46,
   "metadata": {},
   "outputs": [],
   "source": [
    "class CustomSchedule(tf.keras.optimizers.schedules.LearningRateSchedule):\n",
    "    def __init__(self, d_model, warmup_steps=4000):\n",
    "        super(CustomSchedule, self).__init__()\n",
    "        \n",
    "        self.d_model = d_model\n",
    "        self.d_model = tf.cast(self.d_model, tf.float32)\n",
    "  \n",
    "        self.warmup_steps = warmup_steps\n",
    "      \n",
    "    def __call__(self, step):\n",
    "        arg1 = tf.math.rsqrt(step)\n",
    "        arg2 = step * (self.warmup_steps ** -1.5)\n",
    "        \n",
    "        return tf.math.rsqrt(self.d_model) * tf.math.minimum(arg1, arg2)\n"
   ]
  },
  {
   "cell_type": "code",
   "execution_count": 47,
   "metadata": {},
   "outputs": [],
   "source": [
    "learning_rate = CustomSchedule(d_model)\n",
    "\n",
    "optimizer = tf.keras.optimizers.Adam(learning_rate, beta_1=0.9, beta_2=0.98, \n",
    "                                     epsilon=1e-9)"
   ]
  },
  {
   "cell_type": "code",
   "execution_count": 48,
   "metadata": {},
   "outputs": [
    {
     "data": {
      "text/plain": [
       "Text(0.5, 0, 'Train Step')"
      ]
     },
     "execution_count": 48,
     "metadata": {},
     "output_type": "execute_result"
    },
    {
     "data": {
      "image/png": "[encoded data removed]",
      "text/plain": [
       "<Figure size 432x288 with 1 Axes>"
      ]
     },
     "metadata": {
      "needs_background": "light"
     },
     "output_type": "display_data"
    }
   ],
   "source": [
    "temp_learning_rate_schedule = CustomSchedule(d_model)\n",
    "\n",
    "plt.plot(temp_learning_rate_schedule(tf.range(40000, dtype=tf.float32)))\n",
    "plt.ylabel(\"Learning Rate\")\n",
    "plt.xlabel(\"Train Step\")"
   ]
  },
  {
   "cell_type": "code",
   "execution_count": 49,
   "metadata": {},
   "outputs": [],
   "source": [
    "loss_object = tf.keras.losses.SparseCategoricalCrossentropy(\n",
    "    from_logits=True, reduction='none')"
   ]
  },
  {
   "cell_type": "code",
   "execution_count": 51,
   "metadata": {},
   "outputs": [],
   "source": [
    "def loss_function(real, pred):\n",
    "    mask = tf.math.logical_not(tf.math.equal(real, 0))\n",
    "    loss_ = loss_object(real, pred)\n",
    "   \n",
    "    mask = tf.cast(mask, dtype=loss_.dtype)\n",
    "    loss_ *= mask\n",
    "     \n",
    "    return tf.reduce_sum(loss_)/tf.reduce_sum(mask)"
   ]
  },
  {
   "cell_type": "code",
   "execution_count": 52,
   "metadata": {},
   "outputs": [],
   "source": [
    "train_loss = tf.keras.metrics.Mean(name='train_loss')\n",
    "train_accuracy = tf.keras.metrics.SparseCategoricalAccuracy(\n",
    "    name='train_accuracy')"
   ]
  },
  {
   "cell_type": "code",
   "execution_count": 53,
   "metadata": {},
   "outputs": [],
   "source": [
    "transformer = Transformer(num_layers, d_model, num_heads, dff,\n",
    "                          input_vocab_size, target_vocab_size, \n",
    "                          pe_input=input_vocab_size, \n",
    "                          pe_target=target_vocab_size,\n",
    "                          rate=dropout_rate)"
   ]
  },
  {
   "cell_type": "code",
   "execution_count": 54,
   "metadata": {},
   "outputs": [],
   "source": [
    "def create_masks(inp, tar):\n",
    "    # Encoder padding mask\n",
    "    enc_padding_mask = create_padding_mask(inp)\n",
    "    \n",
    "    # Used in the 2nd attention block in the decoder.\n",
    "    # This padding mask is used to mask the encoder outputs.\n",
    "    dec_padding_mask = create_padding_mask(inp)\n",
    "    \n",
    "    # Used in the 1st attention block in the decoder.\n",
    "    # It is used to pad and mask future tokens in the input received by \n",
    "    # the decoder.\n",
    "    look_ahead_mask = create_look_ahead_mask(tf.shape(tar)[1])\n",
    "    dec_target_padding_mask = create_padding_mask(tar)\n",
    "    combined_mask = tf.maximum(dec_target_padding_mask, look_ahead_mask)\n",
    "    \n",
    "    return enc_padding_mask, combined_mask, dec_padding_mask"
   ]
  },
  {
   "cell_type": "code",
   "execution_count": 56,
   "metadata": {},
   "outputs": [],
   "source": [
    "checkpoint_path = \"./checkpoints/train\"\n",
    "\n",
    "ckpt = tf.train.Checkpoint(transformer=transformer,\n",
    "                           optimizer=optimizer)\n",
    "\n",
    "ckpt_manager = tf.train.CheckpointManager(ckpt, checkpoint_path, max_to_keep=5)\n",
    "\n",
    "# if a checkpoint exists, restore the latest checkpoint.\n",
    "if ckpt_manager.latest_checkpoint:\n",
    "    ckpt.restore(ckpt_manager.latest_checkpoint)\n",
    "    print ('Latest checkpoint restored!!')"
   ]
  },
  {
   "cell_type": "code",
   "execution_count": 57,
   "metadata": {},
   "outputs": [],
   "source": [
    "EPOCHS = 20"
   ]
  },
  {
   "cell_type": "code",
   "execution_count": 58,
   "metadata": {},
   "outputs": [],
   "source": [
    "# The @tf.function trace-compiles train_step into a TF graph for faster\n",
    "# execution. The function specializes to the precise shape of the argument\n",
    "# tensors. To avoid re-tracing due to the variable sequence lengths or variable\n",
    "# batch sizes (the last batch is smaller), use input_signature to specify\n",
    "# more generic shapes.\n",
    "\n",
    "train_step_signature = [\n",
    "    tf.TensorSpec(shape=(None, None), dtype=tf.int64),\n",
    "    tf.TensorSpec(shape=(None, None), dtype=tf.int64),\n",
    "]\n",
    "\n",
    "@tf.function(input_signature=train_step_signature)\n",
    "def train_step(inp, tar):\n",
    "    tar_inp = tar[:, :-1]\n",
    "    tar_real = tar[:, 1:]\n",
    "    \n",
    "    enc_padding_mask, combined_mask, dec_padding_mask = create_masks(inp, tar_inp)\n",
    "    \n",
    "    with tf.GradientTape() as tape:\n",
    "        predictions, _ = transformer(inp, tar_inp, \n",
    "                                   True, \n",
    "                                   enc_padding_mask, \n",
    "                                   combined_mask, \n",
    "                                   dec_padding_mask)\n",
    "        loss = loss_function(tar_real, predictions)\n",
    "\n",
    "    gradients = tape.gradient(loss, transformer.trainable_variables)    \n",
    "    optimizer.apply_gradients(zip(gradients, transformer.trainable_variables))\n",
    "    \n",
    "    train_loss(loss)\n",
    "    train_accuracy(tar_real, predictions)"
   ]
  },
  {
   "cell_type": "code",
   "execution_count": 59,
   "metadata": {},
   "outputs": [
    {
     "name": "stdout",
     "output_type": "stream",
     "text": [
      "Epoch 1 Batch 0 Loss 9.0104 Accuracy 0.0004\n",
      "Epoch 1 Batch 50 Loss 8.9553 Accuracy 0.0025\n",
      "Epoch 1 Batch 100 Loss 8.8611 Accuracy 0.0143\n",
      "Epoch 1 Batch 150 Loss 8.7584 Accuracy 0.0185\n",
      "Epoch 1 Batch 200 Loss 8.6314 Accuracy 0.0206\n",
      "Epoch 1 Batch 250 Loss 8.4782 Accuracy 0.0219\n",
      "Epoch 1 Batch 300 Loss 8.3017 Accuracy 0.0228\n",
      "Epoch 1 Batch 350 Loss 8.1143 Accuracy 0.0255\n",
      "Epoch 1 Batch 400 Loss 7.9331 Accuracy 0.0287\n",
      "Epoch 1 Batch 450 Loss 7.7695 Accuracy 0.0321\n",
      "Epoch 1 Batch 500 Loss 7.6224 Accuracy 0.0358\n",
      "Epoch 1 Batch 550 Loss 7.4858 Accuracy 0.0400\n",
      "Epoch 1 Batch 600 Loss 7.3570 Accuracy 0.0441\n",
      "Epoch 1 Batch 650 Loss 7.2328 Accuracy 0.0479\n",
      "Epoch 1 Batch 700 Loss 7.1194 Accuracy 0.0516\n",
      "Epoch 1 Loss 7.1150 Accuracy 0.0517\n",
      "Time taken for 1 epoch: 534.7857277393341 secs\n",
      "\n",
      "Epoch 2 Batch 0 Loss 5.5692 Accuracy 0.0921\n",
      "Epoch 2 Batch 50 Loss 5.4667 Accuracy 0.1043\n",
      "Epoch 2 Batch 100 Loss 5.4027 Accuracy 0.1070\n",
      "Epoch 2 Batch 150 Loss 5.3473 Accuracy 0.1098\n",
      "Epoch 2 Batch 200 Loss 5.3086 Accuracy 0.1115\n",
      "Epoch 2 Batch 250 Loss 5.2609 Accuracy 0.1132\n",
      "Epoch 2 Batch 300 Loss 5.2228 Accuracy 0.1149\n",
      "Epoch 2 Batch 350 Loss 5.1861 Accuracy 0.1166\n",
      "Epoch 2 Batch 400 Loss 5.1551 Accuracy 0.1180\n",
      "Epoch 2 Batch 450 Loss 5.1251 Accuracy 0.1192\n",
      "Epoch 2 Batch 500 Loss 5.1003 Accuracy 0.1204\n",
      "Epoch 2 Batch 550 Loss 5.0704 Accuracy 0.1219\n",
      "Epoch 2 Batch 600 Loss 5.0469 Accuracy 0.1231\n",
      "Epoch 2 Batch 650 Loss 5.0232 Accuracy 0.1243\n",
      "Epoch 2 Batch 700 Loss 5.0002 Accuracy 0.1254\n",
      "Epoch 2 Loss 4.9991 Accuracy 0.1254\n",
      "Time taken for 1 epoch: 511.85522651672363 secs\n",
      "\n",
      "Epoch 3 Batch 0 Loss 4.8042 Accuracy 0.1322\n",
      "Epoch 3 Batch 50 Loss 4.6076 Accuracy 0.1421\n",
      "Epoch 3 Batch 100 Loss 4.5888 Accuracy 0.1434\n",
      "Epoch 3 Batch 150 Loss 4.5805 Accuracy 0.1441\n",
      "Epoch 3 Batch 200 Loss 4.5672 Accuracy 0.1447\n",
      "Epoch 3 Batch 250 Loss 4.5602 Accuracy 0.1455\n",
      "Epoch 3 Batch 300 Loss 4.5489 Accuracy 0.1463\n",
      "Epoch 3 Batch 350 Loss 4.5385 Accuracy 0.1470\n",
      "Epoch 3 Batch 400 Loss 4.5275 Accuracy 0.1477\n",
      "Epoch 3 Batch 450 Loss 4.5142 Accuracy 0.1482\n",
      "Epoch 3 Batch 500 Loss 4.5058 Accuracy 0.1485\n",
      "Epoch 3 Batch 550 Loss 4.4953 Accuracy 0.1490\n",
      "Epoch 3 Batch 600 Loss 4.4826 Accuracy 0.1496\n",
      "Epoch 3 Batch 650 Loss 4.4704 Accuracy 0.1502\n",
      "Epoch 3 Batch 700 Loss 4.4564 Accuracy 0.1508\n",
      "Epoch 3 Loss 4.4560 Accuracy 0.1508\n",
      "Time taken for 1 epoch: 504.4313066005707 secs\n",
      "\n",
      "Epoch 4 Batch 0 Loss 4.2207 Accuracy 0.1649\n",
      "Epoch 4 Batch 50 Loss 4.1775 Accuracy 0.1645\n",
      "Epoch 4 Batch 100 Loss 4.1695 Accuracy 0.1647\n",
      "Epoch 4 Batch 150 Loss 4.1531 Accuracy 0.1661\n",
      "Epoch 4 Batch 200 Loss 4.1429 Accuracy 0.1662\n",
      "Epoch 4 Batch 250 Loss 4.1276 Accuracy 0.1673\n",
      "Epoch 4 Batch 300 Loss 4.1149 Accuracy 0.1683\n",
      "Epoch 4 Batch 350 Loss 4.1002 Accuracy 0.1690\n",
      "Epoch 4 Batch 400 Loss 4.0828 Accuracy 0.1701\n",
      "Epoch 4 Batch 450 Loss 4.0674 Accuracy 0.1711\n",
      "Epoch 4 Batch 500 Loss 4.0553 Accuracy 0.1718\n",
      "Epoch 4 Batch 550 Loss 4.0398 Accuracy 0.1729\n",
      "Epoch 4 Batch 600 Loss 4.0234 Accuracy 0.1738\n",
      "Epoch 4 Batch 650 Loss 4.0083 Accuracy 0.1749\n",
      "Epoch 4 Batch 700 Loss 3.9917 Accuracy 0.1762\n",
      "Epoch 4 Loss 3.9914 Accuracy 0.1762\n",
      "Time taken for 1 epoch: 505.3782448768616 secs\n",
      "\n",
      "Epoch 5 Batch 0 Loss 3.6268 Accuracy 0.2064\n",
      "Epoch 5 Batch 50 Loss 3.6344 Accuracy 0.1937\n",
      "Epoch 5 Batch 100 Loss 3.6285 Accuracy 0.1947\n",
      "Epoch 5 Batch 150 Loss 3.6177 Accuracy 0.1963\n",
      "Epoch 5 Batch 200 Loss 3.6136 Accuracy 0.1972\n",
      "Epoch 5 Batch 250 Loss 3.6075 Accuracy 0.1977\n",
      "Epoch 5 Batch 300 Loss 3.5958 Accuracy 0.1981\n",
      "Epoch 5 Batch 350 Loss 3.5835 Accuracy 0.1989\n",
      "Epoch 5 Batch 400 Loss 3.5739 Accuracy 0.1997\n",
      "Epoch 5 Batch 450 Loss 3.5667 Accuracy 0.2007\n",
      "Epoch 5 Batch 500 Loss 3.5545 Accuracy 0.2011\n",
      "Epoch 5 Batch 550 Loss 3.5448 Accuracy 0.2016\n",
      "Epoch 5 Batch 600 Loss 3.5333 Accuracy 0.2025\n",
      "Epoch 5 Batch 650 Loss 3.5222 Accuracy 0.2028\n",
      "Epoch 5 Batch 700 Loss 3.5135 Accuracy 0.2037\n",
      "Saving checkpoint for epoch 5 at ./checkpoints/train\\ckpt-1\n",
      "Epoch 5 Loss 3.5135 Accuracy 0.2037\n",
      "Time taken for 1 epoch: 504.0882124900818 secs\n",
      "\n",
      "Epoch 6 Batch 0 Loss 3.0689 Accuracy 0.2188\n",
      "Epoch 6 Batch 50 Loss 3.1810 Accuracy 0.2217\n",
      "Epoch 6 Batch 100 Loss 3.1761 Accuracy 0.2200\n",
      "Epoch 6 Batch 150 Loss 3.1766 Accuracy 0.2208\n",
      "Epoch 6 Batch 200 Loss 3.1763 Accuracy 0.2212\n",
      "Epoch 6 Batch 250 Loss 3.1823 Accuracy 0.2208\n",
      "Epoch 6 Batch 300 Loss 3.1686 Accuracy 0.2219\n",
      "Epoch 6 Batch 350 Loss 3.1630 Accuracy 0.2220\n",
      "Epoch 6 Batch 400 Loss 3.1584 Accuracy 0.2228\n",
      "Epoch 6 Batch 450 Loss 3.1492 Accuracy 0.2230\n",
      "Epoch 6 Batch 500 Loss 3.1412 Accuracy 0.2235\n",
      "Epoch 6 Batch 550 Loss 3.1304 Accuracy 0.2243\n",
      "Epoch 6 Batch 600 Loss 3.1243 Accuracy 0.2247\n",
      "Epoch 6 Batch 650 Loss 3.1149 Accuracy 0.2253\n",
      "Epoch 6 Batch 700 Loss 3.1063 Accuracy 0.2259\n",
      "Epoch 6 Loss 3.1059 Accuracy 0.2259\n",
      "Time taken for 1 epoch: 499.7966170310974 secs\n",
      "\n",
      "Epoch 7 Batch 0 Loss 2.8503 Accuracy 0.2319\n",
      "Epoch 7 Batch 50 Loss 2.7672 Accuracy 0.2460\n",
      "Epoch 7 Batch 100 Loss 2.7601 Accuracy 0.2447\n",
      "Epoch 7 Batch 150 Loss 2.7593 Accuracy 0.2441\n",
      "Epoch 7 Batch 200 Loss 2.7581 Accuracy 0.2439\n",
      "Epoch 7 Batch 250 Loss 2.7491 Accuracy 0.2448\n",
      "Epoch 7 Batch 300 Loss 2.7411 Accuracy 0.2453\n",
      "Epoch 7 Batch 350 Loss 2.7334 Accuracy 0.2454\n",
      "Epoch 7 Batch 400 Loss 2.7265 Accuracy 0.2459\n",
      "Epoch 7 Batch 450 Loss 2.7259 Accuracy 0.2459\n",
      "Epoch 7 Batch 500 Loss 2.7195 Accuracy 0.2464\n",
      "Epoch 7 Batch 550 Loss 2.7140 Accuracy 0.2470\n",
      "Epoch 7 Batch 600 Loss 2.7122 Accuracy 0.2470\n",
      "Epoch 7 Batch 650 Loss 2.7080 Accuracy 0.2476\n",
      "Epoch 7 Batch 700 Loss 2.7020 Accuracy 0.2481\n",
      "Epoch 7 Loss 2.7023 Accuracy 0.2481\n",
      "Time taken for 1 epoch: 498.6852252483368 secs\n",
      "\n",
      "Epoch 8 Batch 0 Loss 2.6363 Accuracy 0.2311\n",
      "Epoch 8 Batch 50 Loss 2.3957 Accuracy 0.2622\n",
      "Epoch 8 Batch 100 Loss 2.3939 Accuracy 0.2620\n",
      "Epoch 8 Batch 150 Loss 2.3986 Accuracy 0.2628\n",
      "Epoch 8 Batch 200 Loss 2.3981 Accuracy 0.2635\n",
      "Epoch 8 Batch 250 Loss 2.3962 Accuracy 0.2641\n",
      "Epoch 8 Batch 300 Loss 2.3917 Accuracy 0.2640\n",
      "Epoch 8 Batch 350 Loss 2.3856 Accuracy 0.2647\n",
      "Epoch 8 Batch 400 Loss 2.3830 Accuracy 0.2646\n",
      "Epoch 8 Batch 450 Loss 2.3817 Accuracy 0.2648\n",
      "Epoch 8 Batch 500 Loss 2.3778 Accuracy 0.2646\n",
      "Epoch 8 Batch 550 Loss 2.3778 Accuracy 0.2653\n",
      "Epoch 8 Batch 600 Loss 2.3794 Accuracy 0.2656\n",
      "Epoch 8 Batch 650 Loss 2.3779 Accuracy 0.2658\n",
      "Epoch 8 Batch 700 Loss 2.3777 Accuracy 0.2657\n",
      "Epoch 8 Loss 2.3774 Accuracy 0.2658\n",
      "Time taken for 1 epoch: 498.9413061141968 secs\n",
      "\n",
      "Epoch 9 Batch 0 Loss 2.0805 Accuracy 0.2949\n",
      "Epoch 9 Batch 50 Loss 2.0987 Accuracy 0.2810\n",
      "Epoch 9 Batch 100 Loss 2.1036 Accuracy 0.2819\n",
      "Epoch 9 Batch 150 Loss 2.1137 Accuracy 0.2811\n",
      "Epoch 9 Batch 200 Loss 2.1292 Accuracy 0.2813\n",
      "Epoch 9 Batch 250 Loss 2.1291 Accuracy 0.2809\n",
      "Epoch 9 Batch 300 Loss 2.1297 Accuracy 0.2809\n",
      "Epoch 9 Batch 350 Loss 2.1320 Accuracy 0.2807\n",
      "Epoch 9 Batch 400 Loss 2.1360 Accuracy 0.2809\n",
      "Epoch 9 Batch 450 Loss 2.1366 Accuracy 0.2809\n",
      "Epoch 9 Batch 500 Loss 2.1380 Accuracy 0.2808\n",
      "Epoch 9 Batch 550 Loss 2.1378 Accuracy 0.2808\n",
      "Epoch 9 Batch 600 Loss 2.1395 Accuracy 0.2805\n",
      "Epoch 9 Batch 650 Loss 2.1412 Accuracy 0.2804\n",
      "Epoch 9 Batch 700 Loss 2.1437 Accuracy 0.2804\n",
      "Epoch 9 Loss 2.1440 Accuracy 0.2804\n",
      "Time taken for 1 epoch: 504.4802212715149 secs\n",
      "\n",
      "Epoch 10 Batch 0 Loss 1.8665 Accuracy 0.3194\n",
      "Epoch 10 Batch 50 Loss 1.8954 Accuracy 0.2957\n",
      "Epoch 10 Batch 100 Loss 1.9094 Accuracy 0.2937\n",
      "Epoch 10 Batch 150 Loss 1.9254 Accuracy 0.2919\n",
      "Epoch 10 Batch 200 Loss 1.9295 Accuracy 0.2916\n",
      "Epoch 10 Batch 250 Loss 1.9334 Accuracy 0.2901\n",
      "Epoch 10 Batch 300 Loss 1.9350 Accuracy 0.2910\n",
      "Epoch 10 Batch 350 Loss 1.9418 Accuracy 0.2910\n",
      "Epoch 10 Batch 400 Loss 1.9400 Accuracy 0.2917\n",
      "Epoch 10 Batch 450 Loss 1.9431 Accuracy 0.2916\n",
      "Epoch 10 Batch 500 Loss 1.9502 Accuracy 0.2912\n",
      "Epoch 10 Batch 550 Loss 1.9517 Accuracy 0.2914\n",
      "Epoch 10 Batch 600 Loss 1.9554 Accuracy 0.2912\n",
      "Epoch 10 Batch 650 Loss 1.9588 Accuracy 0.2911\n",
      "Epoch 10 Batch 700 Loss 1.9625 Accuracy 0.2910\n",
      "Saving checkpoint for epoch 10 at ./checkpoints/train\\ckpt-2\n",
      "Epoch 10 Loss 1.9622 Accuracy 0.2910\n",
      "Time taken for 1 epoch: 501.0235300064087 secs\n",
      "\n",
      "Epoch 11 Batch 0 Loss 1.6930 Accuracy 0.3258\n",
      "Epoch 11 Batch 50 Loss 1.7558 Accuracy 0.3006\n",
      "Epoch 11 Batch 100 Loss 1.7671 Accuracy 0.3015\n",
      "Epoch 11 Batch 150 Loss 1.7685 Accuracy 0.3015\n",
      "Epoch 11 Batch 200 Loss 1.7772 Accuracy 0.3007\n",
      "Epoch 11 Batch 250 Loss 1.7867 Accuracy 0.3007\n",
      "Epoch 11 Batch 300 Loss 1.7926 Accuracy 0.3005\n",
      "Epoch 11 Batch 350 Loss 1.7967 Accuracy 0.3012\n"
     ]
    },
    {
     "name": "stdout",
     "output_type": "stream",
     "text": [
      "Epoch 11 Batch 400 Loss 1.8026 Accuracy 0.3016\n",
      "Epoch 11 Batch 450 Loss 1.8059 Accuracy 0.3011\n",
      "Epoch 11 Batch 500 Loss 1.8100 Accuracy 0.3006\n",
      "Epoch 11 Batch 550 Loss 1.8141 Accuracy 0.3002\n",
      "Epoch 11 Batch 600 Loss 1.8157 Accuracy 0.2999\n",
      "Epoch 11 Batch 650 Loss 1.8180 Accuracy 0.2995\n",
      "Epoch 11 Batch 700 Loss 1.8211 Accuracy 0.2997\n",
      "Epoch 11 Loss 1.8210 Accuracy 0.2997\n",
      "Time taken for 1 epoch: 500.1228506565094 secs\n",
      "\n",
      "Epoch 12 Batch 0 Loss 1.5326 Accuracy 0.2866\n",
      "Epoch 12 Batch 50 Loss 1.6364 Accuracy 0.3063\n",
      "Epoch 12 Batch 100 Loss 1.6409 Accuracy 0.3065\n",
      "Epoch 12 Batch 150 Loss 1.6441 Accuracy 0.3103\n",
      "Epoch 12 Batch 200 Loss 1.6497 Accuracy 0.3098\n",
      "Epoch 12 Batch 250 Loss 1.6562 Accuracy 0.3095\n",
      "Epoch 12 Batch 300 Loss 1.6625 Accuracy 0.3098\n",
      "Epoch 12 Batch 350 Loss 1.6684 Accuracy 0.3095\n",
      "Epoch 12 Batch 400 Loss 1.6757 Accuracy 0.3092\n",
      "Epoch 12 Batch 450 Loss 1.6809 Accuracy 0.3088\n",
      "Epoch 12 Batch 500 Loss 1.6831 Accuracy 0.3093\n",
      "Epoch 12 Batch 550 Loss 1.6877 Accuracy 0.3096\n",
      "Epoch 12 Batch 600 Loss 1.6930 Accuracy 0.3090\n",
      "Epoch 12 Batch 650 Loss 1.6987 Accuracy 0.3084\n",
      "Epoch 12 Batch 700 Loss 1.7035 Accuracy 0.3082\n",
      "Epoch 12 Loss 1.7031 Accuracy 0.3081\n",
      "Time taken for 1 epoch: 497.52283549308777 secs\n",
      "\n",
      "Epoch 13 Batch 0 Loss 1.4273 Accuracy 0.3509\n",
      "Epoch 13 Batch 50 Loss 1.5336 Accuracy 0.3141\n",
      "Epoch 13 Batch 100 Loss 1.5423 Accuracy 0.3167\n",
      "Epoch 13 Batch 150 Loss 1.5455 Accuracy 0.3164\n",
      "Epoch 13 Batch 200 Loss 1.5525 Accuracy 0.3160\n",
      "Epoch 13 Batch 250 Loss 1.5576 Accuracy 0.3158\n",
      "Epoch 13 Batch 300 Loss 1.5654 Accuracy 0.3152\n",
      "Epoch 13 Batch 350 Loss 1.5720 Accuracy 0.3152\n",
      "Epoch 13 Batch 400 Loss 1.5735 Accuracy 0.3150\n",
      "Epoch 13 Batch 450 Loss 1.5778 Accuracy 0.3148\n",
      "Epoch 13 Batch 500 Loss 1.5867 Accuracy 0.3144\n",
      "Epoch 13 Batch 550 Loss 1.5914 Accuracy 0.3143\n",
      "Epoch 13 Batch 600 Loss 1.5968 Accuracy 0.3140\n",
      "Epoch 13 Batch 650 Loss 1.5992 Accuracy 0.3140\n",
      "Epoch 13 Batch 700 Loss 1.6045 Accuracy 0.3139\n",
      "Epoch 13 Loss 1.6043 Accuracy 0.3139\n",
      "Time taken for 1 epoch: 496.67111587524414 secs\n",
      "\n",
      "Epoch 14 Batch 0 Loss 1.5455 Accuracy 0.3459\n",
      "Epoch 14 Batch 50 Loss 1.4292 Accuracy 0.3250\n",
      "Epoch 14 Batch 100 Loss 1.4397 Accuracy 0.3235\n",
      "Epoch 14 Batch 150 Loss 1.4518 Accuracy 0.3237\n",
      "Epoch 14 Batch 200 Loss 1.4566 Accuracy 0.3234\n",
      "Epoch 14 Batch 250 Loss 1.4666 Accuracy 0.3229\n",
      "Epoch 14 Batch 300 Loss 1.4728 Accuracy 0.3232\n",
      "Epoch 14 Batch 350 Loss 1.4791 Accuracy 0.3227\n",
      "Epoch 14 Batch 400 Loss 1.4840 Accuracy 0.3231\n",
      "Epoch 14 Batch 450 Loss 1.4891 Accuracy 0.3228\n",
      "Epoch 14 Batch 500 Loss 1.4932 Accuracy 0.3222\n",
      "Epoch 14 Batch 550 Loss 1.4984 Accuracy 0.3214\n",
      "Epoch 14 Batch 600 Loss 1.5043 Accuracy 0.3210\n",
      "Epoch 14 Batch 650 Loss 1.5113 Accuracy 0.3206\n",
      "Epoch 14 Batch 700 Loss 1.5166 Accuracy 0.3204\n",
      "Epoch 14 Loss 1.5168 Accuracy 0.3204\n",
      "Time taken for 1 epoch: 497.14584469795227 secs\n",
      "\n",
      "Epoch 15 Batch 0 Loss 1.3151 Accuracy 0.3513\n",
      "Epoch 15 Batch 50 Loss 1.3609 Accuracy 0.3248\n",
      "Epoch 15 Batch 100 Loss 1.3709 Accuracy 0.3254\n",
      "Epoch 15 Batch 150 Loss 1.3800 Accuracy 0.3262\n",
      "Epoch 15 Batch 200 Loss 1.3877 Accuracy 0.3272\n",
      "Epoch 15 Batch 250 Loss 1.3946 Accuracy 0.3265\n",
      "Epoch 15 Batch 300 Loss 1.4003 Accuracy 0.3264\n",
      "Epoch 15 Batch 350 Loss 1.4037 Accuracy 0.3261\n",
      "Epoch 15 Batch 400 Loss 1.4097 Accuracy 0.3261\n",
      "Epoch 15 Batch 450 Loss 1.4137 Accuracy 0.3259\n",
      "Epoch 15 Batch 500 Loss 1.4185 Accuracy 0.3260\n",
      "Epoch 15 Batch 550 Loss 1.4254 Accuracy 0.3257\n",
      "Epoch 15 Batch 600 Loss 1.4308 Accuracy 0.3251\n",
      "Epoch 15 Batch 650 Loss 1.4374 Accuracy 0.3245\n",
      "Epoch 15 Batch 700 Loss 1.4429 Accuracy 0.3240\n",
      "Saving checkpoint for epoch 15 at ./checkpoints/train\\ckpt-3\n",
      "Epoch 15 Loss 1.4433 Accuracy 0.3240\n",
      "Time taken for 1 epoch: 498.7002844810486 secs\n",
      "\n",
      "Epoch 16 Batch 0 Loss 1.2456 Accuracy 0.3869\n",
      "Epoch 16 Batch 50 Loss 1.2898 Accuracy 0.3327\n",
      "Epoch 16 Batch 100 Loss 1.2973 Accuracy 0.3341\n",
      "Epoch 16 Batch 150 Loss 1.3099 Accuracy 0.3332\n",
      "Epoch 16 Batch 200 Loss 1.3190 Accuracy 0.3337\n",
      "Epoch 16 Batch 250 Loss 1.3262 Accuracy 0.3329\n",
      "Epoch 16 Batch 300 Loss 1.3345 Accuracy 0.3319\n",
      "Epoch 16 Batch 350 Loss 1.3399 Accuracy 0.3310\n",
      "Epoch 16 Batch 400 Loss 1.3456 Accuracy 0.3310\n",
      "Epoch 16 Batch 450 Loss 1.3489 Accuracy 0.3311\n",
      "Epoch 16 Batch 500 Loss 1.3546 Accuracy 0.3312\n",
      "Epoch 16 Batch 550 Loss 1.3598 Accuracy 0.3309\n",
      "Epoch 16 Batch 600 Loss 1.3669 Accuracy 0.3300\n",
      "Epoch 16 Batch 650 Loss 1.3709 Accuracy 0.3299\n",
      "Epoch 16 Batch 700 Loss 1.3749 Accuracy 0.3295\n",
      "Epoch 16 Loss 1.3752 Accuracy 0.3295\n",
      "Time taken for 1 epoch: 496.73872089385986 secs\n",
      "\n",
      "Epoch 17 Batch 0 Loss 1.2554 Accuracy 0.3525\n",
      "Epoch 17 Batch 50 Loss 1.2373 Accuracy 0.3442\n",
      "Epoch 17 Batch 100 Loss 1.2516 Accuracy 0.3407\n",
      "Epoch 17 Batch 150 Loss 1.2502 Accuracy 0.3403\n",
      "Epoch 17 Batch 200 Loss 1.2518 Accuracy 0.3390\n",
      "Epoch 17 Batch 250 Loss 1.2571 Accuracy 0.3370\n",
      "Epoch 17 Batch 300 Loss 1.2660 Accuracy 0.3363\n",
      "Epoch 17 Batch 350 Loss 1.2754 Accuracy 0.3367\n",
      "Epoch 17 Batch 400 Loss 1.2828 Accuracy 0.3360\n",
      "Epoch 17 Batch 450 Loss 1.2875 Accuracy 0.3357\n",
      "Epoch 17 Batch 500 Loss 1.2931 Accuracy 0.3354\n",
      "Epoch 17 Batch 550 Loss 1.3002 Accuracy 0.3351\n",
      "Epoch 17 Batch 600 Loss 1.3060 Accuracy 0.3349\n",
      "Epoch 17 Batch 650 Loss 1.3116 Accuracy 0.3344\n",
      "Epoch 17 Batch 700 Loss 1.3167 Accuracy 0.3340\n",
      "Epoch 17 Loss 1.3170 Accuracy 0.3339\n",
      "Time taken for 1 epoch: 499.21341490745544 secs\n",
      "\n",
      "Epoch 18 Batch 0 Loss 1.1765 Accuracy 0.3387\n",
      "Epoch 18 Batch 50 Loss 1.1688 Accuracy 0.3405\n",
      "Epoch 18 Batch 100 Loss 1.1719 Accuracy 0.3390\n",
      "Epoch 18 Batch 150 Loss 1.1861 Accuracy 0.3387\n",
      "Epoch 18 Batch 200 Loss 1.1934 Accuracy 0.3406\n",
      "Epoch 18 Batch 250 Loss 1.2041 Accuracy 0.3397\n",
      "Epoch 18 Batch 300 Loss 1.2145 Accuracy 0.3405\n",
      "Epoch 18 Batch 350 Loss 1.2203 Accuracy 0.3400\n",
      "Epoch 18 Batch 400 Loss 1.2254 Accuracy 0.3398\n",
      "Epoch 18 Batch 450 Loss 1.2327 Accuracy 0.3391\n",
      "Epoch 18 Batch 500 Loss 1.2385 Accuracy 0.3387\n",
      "Epoch 18 Batch 550 Loss 1.2446 Accuracy 0.3383\n",
      "Epoch 18 Batch 600 Loss 1.2505 Accuracy 0.3380\n",
      "Epoch 18 Batch 650 Loss 1.2568 Accuracy 0.3375\n",
      "Epoch 18 Batch 700 Loss 1.2625 Accuracy 0.3372\n",
      "Epoch 18 Loss 1.2627 Accuracy 0.3372\n",
      "Time taken for 1 epoch: 498.0225946903229 secs\n",
      "\n",
      "Epoch 19 Batch 0 Loss 1.0595 Accuracy 0.3615\n",
      "Epoch 19 Batch 50 Loss 1.1359 Accuracy 0.3456\n",
      "Epoch 19 Batch 100 Loss 1.1427 Accuracy 0.3456\n",
      "Epoch 19 Batch 150 Loss 1.1510 Accuracy 0.3451\n",
      "Epoch 19 Batch 200 Loss 1.1567 Accuracy 0.3444\n",
      "Epoch 19 Batch 250 Loss 1.1635 Accuracy 0.3435\n",
      "Epoch 19 Batch 300 Loss 1.1688 Accuracy 0.3437\n",
      "Epoch 19 Batch 350 Loss 1.1718 Accuracy 0.3444\n",
      "Epoch 19 Batch 400 Loss 1.1787 Accuracy 0.3443\n",
      "Epoch 19 Batch 450 Loss 1.1854 Accuracy 0.3435\n",
      "Epoch 19 Batch 500 Loss 1.1903 Accuracy 0.3434\n",
      "Epoch 19 Batch 550 Loss 1.1954 Accuracy 0.3431\n",
      "Epoch 19 Batch 600 Loss 1.2011 Accuracy 0.3427\n",
      "Epoch 19 Batch 650 Loss 1.2073 Accuracy 0.3418\n",
      "Epoch 19 Batch 700 Loss 1.2135 Accuracy 0.3413\n",
      "Epoch 19 Loss 1.2136 Accuracy 0.3413\n",
      "Time taken for 1 epoch: 533.5268223285675 secs\n",
      "\n",
      "Epoch 20 Batch 0 Loss 1.0600 Accuracy 0.3682\n",
      "Epoch 20 Batch 50 Loss 1.0654 Accuracy 0.3520\n",
      "Epoch 20 Batch 100 Loss 1.0768 Accuracy 0.3502\n",
      "Epoch 20 Batch 150 Loss 1.0934 Accuracy 0.3499\n",
      "Epoch 20 Batch 200 Loss 1.1005 Accuracy 0.3498\n",
      "Epoch 20 Batch 250 Loss 1.1114 Accuracy 0.3480\n",
      "Epoch 20 Batch 300 Loss 1.1194 Accuracy 0.3482\n",
      "Epoch 20 Batch 350 Loss 1.1260 Accuracy 0.3474\n",
      "Epoch 20 Batch 400 Loss 1.1325 Accuracy 0.3472\n",
      "Epoch 20 Batch 450 Loss 1.1388 Accuracy 0.3467\n",
      "Epoch 20 Batch 500 Loss 1.1457 Accuracy 0.3460\n",
      "Epoch 20 Batch 550 Loss 1.1500 Accuracy 0.3456\n",
      "Epoch 20 Batch 600 Loss 1.1558 Accuracy 0.3449\n",
      "Epoch 20 Batch 650 Loss 1.1623 Accuracy 0.3446\n",
      "Epoch 20 Batch 700 Loss 1.1688 Accuracy 0.3444\n",
      "Saving checkpoint for epoch 20 at ./checkpoints/train\\ckpt-4\n",
      "Epoch 20 Loss 1.1691 Accuracy 0.3445\n",
      "Time taken for 1 epoch: 525.3447721004486 secs\n",
      "\n"
     ]
    }
   ],
   "source": [
    "for epoch in range(EPOCHS):\n",
    "    start = time.time()\n",
    "    \n",
    "    train_loss.reset_states()\n",
    "    train_accuracy.reset_states()\n",
    "    \n",
    "    # inp -> portuguese, tar -> english\n",
    "    for (batch, (inp, tar)) in enumerate(train_dataset):\n",
    "        train_step(inp, tar)\n",
    "        \n",
    "        if batch % 50 == 0:\n",
    "            print ('Epoch {} Batch {} Loss {:.4f} Accuracy {:.4f}'.format(\n",
    "                epoch + 1, batch, train_loss.result(), train_accuracy.result()))\n",
    "            \n",
    "    if (epoch + 1) % 5 == 0:\n",
    "        ckpt_save_path = ckpt_manager.save()\n",
    "        print ('Saving checkpoint for epoch {} at {}'.format(epoch+1,\n",
    "                                                             ckpt_save_path))\n",
    "        \n",
    "    print ('Epoch {} Loss {:.4f} Accuracy {:.4f}'.format(epoch + 1, \n",
    "                                                  train_loss.result(), \n",
    "                                                  train_accuracy.result()))\n",
    "\n",
    "    print ('Time taken for 1 epoch: {} secs\\n'.format(time.time() - start))"
   ]
  },
  {
   "cell_type": "code",
   "execution_count": null,
   "metadata": {},
   "outputs": [],
   "source": []
  },
  {
   "cell_type": "markdown",
   "metadata": {},
   "source": [
    "#Evaluate"
   ]
  },
  {
   "cell_type": "code",
   "execution_count": 60,
   "metadata": {},
   "outputs": [],
   "source": [
    "def evaluate(inp_sentence):\n",
    "    start_token = [tokenizer_pt.vocab_size]\n",
    "    end_token = [tokenizer_pt.vocab_size + 1]\n",
    "    \n",
    "    # inp sentence is portuguese, hence adding the start and end token\n",
    "    inp_sentence = start_token + tokenizer_pt.encode(inp_sentence) + end_token\n",
    "    encoder_input = tf.expand_dims(inp_sentence, 0)\n",
    "    \n",
    "    # as the target is english, the first word to the transformer should be the\n",
    "    # english start token.\n",
    "    decoder_input = [tokenizer_en.vocab_size]\n",
    "    output = tf.expand_dims(decoder_input, 0)\n",
    "      \n",
    "    for i in range(MAX_LENGTH):\n",
    "        enc_padding_mask, combined_mask, dec_padding_mask = create_masks(\n",
    "            encoder_input, output)\n",
    "      \n",
    "        # predictions.shape == (batch_size, seq_len, vocab_size)\n",
    "        predictions, attention_weights = transformer(encoder_input, \n",
    "                                                     output,\n",
    "                                                     False,\n",
    "                                                     enc_padding_mask,\n",
    "                                                     combined_mask,\n",
    "                                                     dec_padding_mask)\n",
    "        \n",
    "        # select the last word from the seq_len dimension\n",
    "        predictions = predictions[: ,-1:, :]  # (batch_size, 1, vocab_size)\n",
    "  \n",
    "        predicted_id = tf.cast(tf.argmax(predictions, axis=-1), tf.int32)\n",
    "        \n",
    "        # return the result if the predicted_id is equal to the end token\n",
    "        if predicted_id == tokenizer_en.vocab_size+1:\n",
    "            return tf.squeeze(output, axis=0), attention_weights\n",
    "        \n",
    "        # concatentate the predicted_id to the output which is given to the decoder\n",
    "        # as its input.\n",
    "        output = tf.concat([output, predicted_id], axis=-1)\n",
    "\n",
    "    return tf.squeeze(output, axis=0), attention_weights"
   ]
  },
  {
   "cell_type": "code",
   "execution_count": 65,
   "metadata": {},
   "outputs": [],
   "source": [
    "def plot_attention_weights(attention, sentence, result, layer):\n",
    "    fig = plt.figure(figsize=(16, 8))\n",
    "  \n",
    "    sentence = tokenizer_pt.encode(sentence)\n",
    "    \n",
    "    attention = tf.squeeze(attention[layer], axis=0)\n",
    "    \n",
    "    for head in range(attention.shape[0]):\n",
    "        ax = fig.add_subplot(2, 4, head+1)\n",
    "        \n",
    "        # plot the attention weights\n",
    "        ax.matshow(attention[head][:-1, :], cmap='viridis')\n",
    "\n",
    "        fontdict = {'fontsize': 10}\n",
    "        \n",
    "        ax.set_xticks(range(len(sentence)+2))\n",
    "        ax.set_yticks(range(len(result)))\n",
    "        \n",
    "        ax.set_ylim(len(result)-1.5, -0.5)\n",
    "            \n",
    "        ax.set_xticklabels(\n",
    "            ['<start>']+[tokenizer_pt.decode([i]) for i in sentence]+['<end>'], \n",
    "            fontdict=fontdict, rotation=90)\n",
    "        \n",
    "        ax.set_yticklabels([tokenizer_en.decode([i]) for i in result \n",
    "                            if i < tokenizer_en.vocab_size], \n",
    "                           fontdict=fontdict)\n",
    "        \n",
    "        ax.set_xlabel('Head {}'.format(head+1))\n",
    "  \n",
    "    plt.tight_layout()\n",
    "    plt.show()"
   ]
  },
  {
   "cell_type": "code",
   "execution_count": 61,
   "metadata": {},
   "outputs": [],
   "source": [
    "def translate(sentence, plot=''):\n",
    "    result, attention_weights = evaluate(sentence)\n",
    "    \n",
    "    predicted_sentence = tokenizer_en.decode([i for i in result \n",
    "                                              if i < tokenizer_en.vocab_size])  \n",
    "  \n",
    "    print('Input: {}'.format(sentence))\n",
    "    print('Predicted translation: {}'.format(predicted_sentence))\n",
    "    \n",
    "    if plot:\n",
    "        plot_attention_weights(attention_weights, sentence, result, plot)"
   ]
  },
  {
   "cell_type": "code",
   "execution_count": 62,
   "metadata": {},
   "outputs": [
    {
     "name": "stdout",
     "output_type": "stream",
     "text": [
      "Input: este é um problema que temos que resolver.\n",
      "Predicted translation: this is a problem that we have to solve for a problem .\n",
      "Real translation: this is a problem we have to solve .\n"
     ]
    }
   ],
   "source": [
    "translate(\"este é um problema que temos que resolver.\")\n",
    "print (\"Real translation: this is a problem we have to solve .\")"
   ]
  },
  {
   "cell_type": "code",
   "execution_count": 63,
   "metadata": {},
   "outputs": [
    {
     "name": "stdout",
     "output_type": "stream",
     "text": [
      "Input: os meus vizinhos ouviram sobre esta ideia.\n",
      "Predicted translation: my neighbors have heard about this idea .\n",
      "Real translation: and my neighboring homes heard about this idea .\n"
     ]
    }
   ],
   "source": [
    "translate(\"os meus vizinhos ouviram sobre esta ideia.\")\n",
    "print (\"Real translation: and my neighboring homes heard about this idea .\")"
   ]
  },
  {
   "cell_type": "code",
   "execution_count": 66,
   "metadata": {},
   "outputs": [
    {
     "name": "stdout",
     "output_type": "stream",
     "text": [
      "Input: este é o primeiro livro que eu fiz.\n",
      "Predicted translation: this is the first book i did .\n"
     ]
    },
    {
     "data": {
      "image/png": "[encoded data removed]",
      "text/plain": [
       "<Figure size 1152x576 with 8 Axes>"
      ]
     },
     "metadata": {
      "needs_background": "light"
     },
     "output_type": "display_data"
    },
    {
     "name": "stdout",
     "output_type": "stream",
     "text": [
      "Real translation: this is the first book i've ever done.\n"
     ]
    }
   ],
   "source": [
    "translate(\"este é o primeiro livro que eu fiz.\", plot='decoder_layer4_block2')\n",
    "print (\"Real translation: this is the first book i've ever done.\")"
   ]
  },
  {
   "cell_type": "code",
   "execution_count": null,
   "metadata": {},
   "outputs": [],
   "source": []
  }
 ],
 "metadata": {
  "kernelspec": {
   "display_name": "Python 3",
   "language": "python",
   "name": "python3"
  },
  "language_info": {
   "codemirror_mode": {
    "name": "ipython",
    "version": 3
   },
   "file_extension": ".py",
   "mimetype": "text/x-python",
   "name": "python",
   "nbconvert_exporter": "python",
   "pygments_lexer": "ipython3",
   "version": "3.7.6"
  }
 },
 "nbformat": 4,
 "nbformat_minor": 4
}
