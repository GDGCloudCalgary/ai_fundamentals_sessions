{
 "cells": [
  {
   "cell_type": "code",
   "execution_count": 4,
   "metadata": {},
   "outputs": [],
   "source": [
    "import torch\n",
    "import torchvision\n",
    "from torchvision import transforms, datasets\n",
    "import numpy as np\n",
    "#https://pytorch.org/docs/stable/torch.html - tensor operations practice"
   ]
  },
  {
   "cell_type": "code",
   "execution_count": null,
   "metadata": {},
   "outputs": [],
   "source": [
    "[x1, x2, x3]\n",
    "employed , graduate, lives in Calgary\n",
    "[1,0,1]\n",
    "[0,1,1]\n",
    "\n",
    "\n",
    "[salary]\n",
    "\n",
    "50,500, 25100, .....\n",
    "<20000.1,<30000.1  - 10-20 -> payscales   = >   10:<20,000 : 50: <30, 0000 => \n",
    "0, 1, .10000 1 1000 0 \n",
    "\n",
    "\n",
    "\n"
   ]
  },
  {
   "cell_type": "code",
   "execution_count": 5,
   "metadata": {},
   "outputs": [
    {
     "data": {
      "text/plain": [
       "array([[0., 0., 0.],\n",
       "       [0., 0., 0.]])"
      ]
     },
     "execution_count": 5,
     "metadata": {},
     "output_type": "execute_result"
    }
   ],
   "source": [
    "np.empty((2,3))"
   ]
  },
  {
   "cell_type": "code",
   "execution_count": 6,
   "metadata": {},
   "outputs": [
    {
     "data": {
      "text/plain": [
       "tensor([[0., 0., 0.],\n",
       "        [0., 0., 0.]])"
      ]
     },
     "execution_count": 6,
     "metadata": {},
     "output_type": "execute_result"
    }
   ],
   "source": [
    "torch.empty(2,3)"
   ]
  },
  {
   "cell_type": "code",
   "execution_count": 7,
   "metadata": {},
   "outputs": [],
   "source": [
    "a = torch.empty((2,3))"
   ]
  },
  {
   "cell_type": "code",
   "execution_count": 8,
   "metadata": {},
   "outputs": [
    {
     "data": {
      "text/plain": [
       "tensor([[1.0682e-05, 1.2973e-11, 1.7663e-04],\n",
       "        [1.3223e+22, 1.0384e+21, 1.0334e-05]])"
      ]
     },
     "execution_count": 8,
     "metadata": {},
     "output_type": "execute_result"
    }
   ],
   "source": [
    "a"
   ]
  },
  {
   "cell_type": "code",
   "execution_count": 9,
   "metadata": {},
   "outputs": [],
   "source": [
    "#pytorch basics\n",
    "a = torch.empty(2,3)\n",
    "b = torch.rand((2,2), dtype=torch.float)\n",
    "c = torch.ones((2,2), dtype=torch.double)\n",
    "d = torch.zeros((2,2), dtype=torch.double)\n",
    "e = torch.zeros((10,2), dtype=torch.float)"
   ]
  },
  {
   "cell_type": "code",
   "execution_count": 10,
   "metadata": {},
   "outputs": [
    {
     "data": {
      "text/plain": [
       "tensor([[0., 0., 0.],\n",
       "        [0., 0., 0.]])"
      ]
     },
     "execution_count": 10,
     "metadata": {},
     "output_type": "execute_result"
    }
   ],
   "source": [
    "a"
   ]
  },
  {
   "cell_type": "code",
   "execution_count": 11,
   "metadata": {},
   "outputs": [
    {
     "data": {
      "text/plain": [
       "tensor([[0.3136, 0.3378],\n",
       "        [0.0762, 0.2141]])"
      ]
     },
     "execution_count": 11,
     "metadata": {},
     "output_type": "execute_result"
    }
   ],
   "source": [
    "b"
   ]
  },
  {
   "cell_type": "code",
   "execution_count": 12,
   "metadata": {},
   "outputs": [
    {
     "data": {
      "text/plain": [
       "tensor([[1., 1.],\n",
       "        [1., 1.]], dtype=torch.float64)"
      ]
     },
     "execution_count": 12,
     "metadata": {},
     "output_type": "execute_result"
    }
   ],
   "source": [
    "c"
   ]
  },
  {
   "cell_type": "code",
   "execution_count": 14,
   "metadata": {},
   "outputs": [
    {
     "data": {
      "text/plain": [
       "torch.float32"
      ]
     },
     "execution_count": 14,
     "metadata": {},
     "output_type": "execute_result"
    }
   ],
   "source": [
    "a.dtype"
   ]
  },
  {
   "cell_type": "code",
   "execution_count": 15,
   "metadata": {},
   "outputs": [
    {
     "data": {
      "text/plain": [
       "tensor([[1.3136, 1.3378],\n",
       "        [1.0762, 1.2141]], dtype=torch.float64)"
      ]
     },
     "execution_count": 15,
     "metadata": {},
     "output_type": "execute_result"
    }
   ],
   "source": [
    "b+c"
   ]
  },
  {
   "cell_type": "code",
   "execution_count": 16,
   "metadata": {},
   "outputs": [
    {
     "name": "stdout",
     "output_type": "stream",
     "text": [
      "torch.Size([10, 2])\n",
      "torch.Size([2, 2])\n"
     ]
    }
   ],
   "source": [
    "print(e.size())\n",
    "print(b.size())"
   ]
  },
  {
   "cell_type": "code",
   "execution_count": 17,
   "metadata": {},
   "outputs": [
    {
     "data": {
      "text/plain": [
       "tensor([[0., 0.],\n",
       "        [0., 0.],\n",
       "        [0., 0.],\n",
       "        [0., 0.],\n",
       "        [0., 0.],\n",
       "        [0., 0.],\n",
       "        [0., 0.],\n",
       "        [0., 0.],\n",
       "        [0., 0.],\n",
       "        [0., 0.]])"
      ]
     },
     "execution_count": 17,
     "metadata": {},
     "output_type": "execute_result"
    }
   ],
   "source": [
    "e"
   ]
  },
  {
   "cell_type": "code",
   "execution_count": 19,
   "metadata": {},
   "outputs": [
    {
     "data": {
      "text/plain": [
       "tensor([[0.3136, 0.3378],\n",
       "        [0.0762, 0.2141]])"
      ]
     },
     "execution_count": 19,
     "metadata": {},
     "output_type": "execute_result"
    }
   ],
   "source": [
    "b"
   ]
  },
  {
   "cell_type": "code",
   "execution_count": 18,
   "metadata": {},
   "outputs": [
    {
     "data": {
      "text/plain": [
       "tensor([0.3136, 0.0762])"
      ]
     },
     "execution_count": 18,
     "metadata": {},
     "output_type": "execute_result"
    }
   ],
   "source": [
    "b[:,0]"
   ]
  },
  {
   "cell_type": "code",
   "execution_count": 20,
   "metadata": {},
   "outputs": [
    {
     "data": {
      "text/plain": [
       "tensor([0.3136, 0.3378])"
      ]
     },
     "execution_count": 20,
     "metadata": {},
     "output_type": "execute_result"
    }
   ],
   "source": [
    "b[0,:]"
   ]
  },
  {
   "cell_type": "code",
   "execution_count": 23,
   "metadata": {},
   "outputs": [
    {
     "data": {
      "text/plain": [
       "0.21410107612609863"
      ]
     },
     "execution_count": 23,
     "metadata": {},
     "output_type": "execute_result"
    }
   ],
   "source": [
    "b[1,1].item()"
   ]
  },
  {
   "cell_type": "code",
   "execution_count": 24,
   "metadata": {},
   "outputs": [],
   "source": [
    "n = torch.tensor([2.5,2.4,1.1])"
   ]
  },
  {
   "cell_type": "code",
   "execution_count": 25,
   "metadata": {},
   "outputs": [
    {
     "data": {
      "text/plain": [
       "torch.float32"
      ]
     },
     "execution_count": 25,
     "metadata": {},
     "output_type": "execute_result"
    }
   ],
   "source": [
    "n.dtype"
   ]
  },
  {
   "cell_type": "code",
   "execution_count": 26,
   "metadata": {},
   "outputs": [
    {
     "data": {
      "text/plain": [
       "torch.Size([3])"
      ]
     },
     "execution_count": 26,
     "metadata": {},
     "output_type": "execute_result"
    }
   ],
   "source": [
    "n.size()"
   ]
  },
  {
   "cell_type": "code",
   "execution_count": 27,
   "metadata": {},
   "outputs": [
    {
     "data": {
      "text/plain": [
       "tensor([2.5000, 2.4000, 1.1000])"
      ]
     },
     "execution_count": 27,
     "metadata": {},
     "output_type": "execute_result"
    }
   ],
   "source": [
    "n"
   ]
  },
  {
   "cell_type": "code",
   "execution_count": null,
   "metadata": {},
   "outputs": [],
   "source": [
    "#most tensor operations same as numpy array operations"
   ]
  },
  {
   "cell_type": "code",
   "execution_count": 28,
   "metadata": {},
   "outputs": [
    {
     "data": {
      "text/plain": [
       "tensor([[0.3136, 0.3378],\n",
       "        [0.0762, 0.2141]])"
      ]
     },
     "execution_count": 28,
     "metadata": {},
     "output_type": "execute_result"
    }
   ],
   "source": [
    "b"
   ]
  },
  {
   "cell_type": "code",
   "execution_count": 29,
   "metadata": {},
   "outputs": [],
   "source": [
    "#reshape\n",
    "bflat = b.view(4)"
   ]
  },
  {
   "cell_type": "code",
   "execution_count": 30,
   "metadata": {},
   "outputs": [
    {
     "data": {
      "text/plain": [
       "tensor([0.3136, 0.3378, 0.0762, 0.2141])"
      ]
     },
     "execution_count": 30,
     "metadata": {},
     "output_type": "execute_result"
    }
   ],
   "source": [
    "bflat"
   ]
  },
  {
   "cell_type": "code",
   "execution_count": 31,
   "metadata": {},
   "outputs": [
    {
     "name": "stdout",
     "output_type": "stream",
     "text": [
      "tensor([[0.3136, 0.3378, 0.0762, 0.2141]])\n",
      "tensor([[0.3136, 0.3378],\n",
      "        [0.0762, 0.2141]])\n"
     ]
    }
   ],
   "source": [
    "print(b.view(1,4))\n",
    "print(b.view(-1,2))   #figure out the other dimension"
   ]
  },
  {
   "cell_type": "code",
   "execution_count": null,
   "metadata": {},
   "outputs": [],
   "source": [
    "blue yellow blue red green\n",
    "yellow blue(0.1) blue(10) red green\n",
    "yellow yellow yellow blue \n",
    "blue blie blie red green\n",
    "blue yello blue yellow \n",
    "\n",
    "\n"
   ]
  },
  {
   "cell_type": "code",
   "execution_count": null,
   "metadata": {},
   "outputs": [],
   "source": [
    "x1 x2   -  Block\n",
    "x2, x3\n",
    "x3, x4\n",
    "x4"
   ]
  },
  {
   "cell_type": "code",
   "execution_count": 33,
   "metadata": {},
   "outputs": [
    {
     "data": {
      "text/plain": [
       "tensor([[0.3136, 0.3378],\n",
       "        [0.0762, 0.2141]])"
      ]
     },
     "execution_count": 33,
     "metadata": {},
     "output_type": "execute_result"
    }
   ],
   "source": [
    "b"
   ]
  },
  {
   "cell_type": "code",
   "execution_count": 34,
   "metadata": {},
   "outputs": [
    {
     "name": "stdout",
     "output_type": "stream",
     "text": [
      "tensor([[0.3136, 0.3378, 0.0762, 0.2141]])\n",
      "tensor([[0.3136],\n",
      "        [0.3378],\n",
      "        [0.0762],\n",
      "        [0.2141]])\n"
     ]
    }
   ],
   "source": [
    "print(torch.reshape(b, (1, 4)))\n",
    "print(torch.reshape(b, (-1,1)))"
   ]
  },
  {
   "cell_type": "code",
   "execution_count": 35,
   "metadata": {},
   "outputs": [
    {
     "name": "stdout",
     "output_type": "stream",
     "text": [
      "tensor([[0.6049, 0.3217, 0.4508, 0.6193, 0.5774],\n",
      "        [0.0655, 0.1959, 0.7764, 0.3019, 0.6418],\n",
      "        [0.5634, 0.6483, 0.1935, 0.5755, 0.6463],\n",
      "        [0.5244, 0.2571, 0.9264, 0.0856, 0.4828],\n",
      "        [0.0089, 0.7649, 0.3337, 0.5647, 0.6815],\n",
      "        [0.4306, 0.4528, 0.4610, 0.0660, 0.3875],\n",
      "        [0.4033, 0.6854, 0.6868, 0.5837, 0.4704],\n",
      "        [0.6616, 0.4008, 0.4453, 0.2065, 0.3912],\n",
      "        [0.7417, 0.0544, 0.6209, 0.9431, 0.9587],\n",
      "        [0.8696, 0.0963, 0.3359, 0.3524, 0.5675]])\n",
      "tensor([[0.6049, 0.3217, 0.4508, 0.6193, 0.5774, 0.0655, 0.1959, 0.7764, 0.3019,\n",
      "         0.6418],\n",
      "        [0.5634, 0.6483, 0.1935, 0.5755, 0.6463, 0.5244, 0.2571, 0.9264, 0.0856,\n",
      "         0.4828],\n",
      "        [0.0089, 0.7649, 0.3337, 0.5647, 0.6815, 0.4306, 0.4528, 0.4610, 0.0660,\n",
      "         0.3875],\n",
      "        [0.4033, 0.6854, 0.6868, 0.5837, 0.4704, 0.6616, 0.4008, 0.4453, 0.2065,\n",
      "         0.3912],\n",
      "        [0.7417, 0.0544, 0.6209, 0.9431, 0.9587, 0.8696, 0.0963, 0.3359, 0.3524,\n",
      "         0.5675]])\n",
      "tensor([[0.6049, 0.0655, 0.5634, 0.5244, 0.0089, 0.4306, 0.4033, 0.6616, 0.7417,\n",
      "         0.8696],\n",
      "        [0.3217, 0.1959, 0.6483, 0.2571, 0.7649, 0.4528, 0.6854, 0.4008, 0.0544,\n",
      "         0.0963],\n",
      "        [0.4508, 0.7764, 0.1935, 0.9264, 0.3337, 0.4610, 0.6868, 0.4453, 0.6209,\n",
      "         0.3359],\n",
      "        [0.6193, 0.3019, 0.5755, 0.0856, 0.5647, 0.0660, 0.5837, 0.2065, 0.9431,\n",
      "         0.3524],\n",
      "        [0.5774, 0.6418, 0.6463, 0.4828, 0.6815, 0.3875, 0.4704, 0.3912, 0.9587,\n",
      "         0.5675]])\n"
     ]
    }
   ],
   "source": [
    "new = torch.rand((10,5))\n",
    "print(new)\n",
    "print(new.view((-1,10)))\n",
    "print(torch.transpose(new, 0, 1))"
   ]
  },
  {
   "cell_type": "code",
   "execution_count": 36,
   "metadata": {},
   "outputs": [
    {
     "name": "stdout",
     "output_type": "stream",
     "text": [
      "[[0.58697274 0.98954217 0.60854059 0.90126081 0.08174822]\n",
      " [0.99907151 0.25665818 0.71169114 0.13643027 0.83496476]\n",
      " [0.13227255 0.18690964 0.58472991 0.07769499 0.07960014]\n",
      " [0.90826685 0.73012417 0.64780658 0.17688405 0.89679942]\n",
      " [0.65619684 0.41892711 0.63779619 0.30653895 0.31980079]\n",
      " [0.90048266 0.91621358 0.02562635 0.51038838 0.41192362]\n",
      " [0.96149397 0.38026982 0.48926493 0.47824286 0.66313371]\n",
      " [0.34520371 0.48500744 0.72875402 0.84039205 0.20825617]\n",
      " [0.62728973 0.23722679 0.699484   0.93584319 0.89173755]\n",
      " [0.67354681 0.74539671 0.10403076 0.76189469 0.47401359]]\n",
      "[[0.58697274 0.98954217 0.60854059 0.90126081 0.08174822 0.99907151\n",
      "  0.25665818 0.71169114 0.13643027 0.83496476]\n",
      " [0.13227255 0.18690964 0.58472991 0.07769499 0.07960014 0.90826685\n",
      "  0.73012417 0.64780658 0.17688405 0.89679942]\n",
      " [0.65619684 0.41892711 0.63779619 0.30653895 0.31980079 0.90048266\n",
      "  0.91621358 0.02562635 0.51038838 0.41192362]\n",
      " [0.96149397 0.38026982 0.48926493 0.47824286 0.66313371 0.34520371\n",
      "  0.48500744 0.72875402 0.84039205 0.20825617]\n",
      " [0.62728973 0.23722679 0.699484   0.93584319 0.89173755 0.67354681\n",
      "  0.74539671 0.10403076 0.76189469 0.47401359]]\n",
      "[[0.58697274 0.99907151 0.13227255 0.90826685 0.65619684 0.90048266\n",
      "  0.96149397 0.34520371 0.62728973 0.67354681]\n",
      " [0.98954217 0.25665818 0.18690964 0.73012417 0.41892711 0.91621358\n",
      "  0.38026982 0.48500744 0.23722679 0.74539671]\n",
      " [0.60854059 0.71169114 0.58472991 0.64780658 0.63779619 0.02562635\n",
      "  0.48926493 0.72875402 0.699484   0.10403076]\n",
      " [0.90126081 0.13643027 0.07769499 0.17688405 0.30653895 0.51038838\n",
      "  0.47824286 0.84039205 0.93584319 0.76189469]\n",
      " [0.08174822 0.83496476 0.07960014 0.89679942 0.31980079 0.41192362\n",
      "  0.66313371 0.20825617 0.89173755 0.47401359]]\n"
     ]
    }
   ],
   "source": [
    "new1 = np.random.rand(10,5)\n",
    "print(new1)\n",
    "print(np.reshape(new1, (-1,10)))\n",
    "print(np.transpose(new1))"
   ]
  },
  {
   "cell_type": "code",
   "execution_count": 37,
   "metadata": {},
   "outputs": [
    {
     "name": "stdout",
     "output_type": "stream",
     "text": [
      "tensor([ 3.0000,  4.7500,  6.5000,  8.2500, 10.0000])\n",
      "[ 3.    4.75  6.5   8.25 10.  ]\n"
     ]
    }
   ],
   "source": [
    "x = torch.linspace(3, 10, steps=5)\n",
    "print(x)\n",
    "x = np.linspace(3, 10, 5)\n",
    "print(x)"
   ]
  },
  {
   "cell_type": "code",
   "execution_count": 38,
   "metadata": {},
   "outputs": [
    {
     "data": {
      "text/plain": [
       "tensor([1.0000e-10, 1.0000e-05, 1.0000e+00, 1.0000e+05, 1.0000e+10])"
      ]
     },
     "execution_count": 38,
     "metadata": {},
     "output_type": "execute_result"
    }
   ],
   "source": [
    "torch.logspace(start=-10, end=10, steps=5)"
   ]
  },
  {
   "cell_type": "code",
   "execution_count": 39,
   "metadata": {},
   "outputs": [
    {
     "data": {
      "text/plain": [
       "tensor([[1., 0., 0.],\n",
       "        [0., 1., 0.],\n",
       "        [0., 0., 1.]])"
      ]
     },
     "execution_count": 39,
     "metadata": {},
     "output_type": "execute_result"
    }
   ],
   "source": [
    "torch.eye(3)"
   ]
  },
  {
   "cell_type": "code",
   "execution_count": 40,
   "metadata": {},
   "outputs": [
    {
     "name": "stderr",
     "output_type": "stream",
     "text": [
      "..\\aten\\src\\ATen\\native\\TensorFactories.cpp:361: UserWarning: Deprecation warning: In a future PyTorch release torch.full will no longer return tensors of floating dtype by default. Instead, a bool fill_value will return a tensor of torch.bool dtype, and an integral fill_value will return a tensor of torch.long dtype. Set the optional `dtype` or `out` arguments to suppress this warning.\n"
     ]
    },
    {
     "data": {
      "text/plain": [
       "tensor([[10., 10., 10.],\n",
       "        [10., 10., 10.]])"
      ]
     },
     "execution_count": 40,
     "metadata": {},
     "output_type": "execute_result"
    }
   ],
   "source": [
    "torch.full((2, 3), 10)"
   ]
  },
  {
   "cell_type": "code",
   "execution_count": 1,
   "metadata": {},
   "outputs": [],
   "source": [
    "#b.add_(1) #undescores does inplace pointer operations"
   ]
  },
  {
   "cell_type": "code",
   "execution_count": null,
   "metadata": {},
   "outputs": [],
   "source": [
    "#Torch numpy interchangeable - numpy operations on cpu during data manpulation - loaded from file ..\n",
    "#For easily conversion to Tensors - handy functions"
   ]
  },
  {
   "cell_type": "code",
   "execution_count": 43,
   "metadata": {},
   "outputs": [
    {
     "data": {
      "text/plain": [
       "torch.Tensor"
      ]
     },
     "execution_count": 43,
     "metadata": {},
     "output_type": "execute_result"
    }
   ],
   "source": [
    "type(b)"
   ]
  },
  {
   "cell_type": "code",
   "execution_count": 41,
   "metadata": {},
   "outputs": [],
   "source": [
    "c = b.numpy() #inplace deep copy (pointer) # modifying one modifies another"
   ]
  },
  {
   "cell_type": "code",
   "execution_count": 44,
   "metadata": {},
   "outputs": [
    {
     "data": {
      "text/plain": [
       "numpy.ndarray"
      ]
     },
     "execution_count": 44,
     "metadata": {},
     "output_type": "execute_result"
    }
   ],
   "source": [
    "type(c)"
   ]
  },
  {
   "cell_type": "code",
   "execution_count": 45,
   "metadata": {},
   "outputs": [
    {
     "data": {
      "text/plain": [
       "tensor([[1., 1., 1., 1., 1.],\n",
       "        [1., 1., 1., 1., 1.],\n",
       "        [1., 1., 1., 1., 1.]], dtype=torch.float64)"
      ]
     },
     "execution_count": 45,
     "metadata": {},
     "output_type": "execute_result"
    }
   ],
   "source": [
    "z = np.ones((3,5))\n",
    "torch.from_numpy(z)"
   ]
  },
  {
   "cell_type": "code",
   "execution_count": 46,
   "metadata": {},
   "outputs": [],
   "source": [
    "if torch.cuda.is_available():\n",
    "    device = torch.device('cuda')\n",
    "    x = torch.ones((3,4), device=device)\n",
    "x = torch.ones((3,4))\n",
    "y = x.to(device)\n",
    "#this is a very expensive operation\n",
    "a = np.array([1, 2, 3])\n",
    "t = torch.as_tensor(a, device=torch.device('cuda'))"
   ]
  },
  {
   "cell_type": "code",
   "execution_count": 47,
   "metadata": {},
   "outputs": [
    {
     "data": {
      "text/plain": [
       "tensor([1, 2, 3], device='cuda:0', dtype=torch.int32)"
      ]
     },
     "execution_count": 47,
     "metadata": {},
     "output_type": "execute_result"
    }
   ],
   "source": [
    "t"
   ]
  },
  {
   "cell_type": "markdown",
   "metadata": {},
   "source": [
    "_____"
   ]
  },
  {
   "cell_type": "code",
   "execution_count": 49,
   "metadata": {},
   "outputs": [
    {
     "name": "stdout",
     "output_type": "stream",
     "text": [
      "tensor([[[[[0.7041, 0.7640]],\n",
      "\n",
      "          [[0.7493, 0.8939]]]],\n",
      "\n",
      "\n",
      "\n",
      "        [[[[0.9879, 0.9504]],\n",
      "\n",
      "          [[0.8890, 0.8225]]]]])\n",
      "torch.Size([2, 1, 2, 1, 2])\n"
     ]
    }
   ],
   "source": [
    "float 32, 64 - > <GPU\n",
    "int , 64 <<GPU   -> int, 128 -\n",
    "\n",
    "x = torch.rand(2, 1, 2, 1, 2)\n",
    "print(x)\n",
    "print(x.size())"
   ]
  },
  {
   "cell_type": "code",
   "execution_count": 50,
   "metadata": {},
   "outputs": [
    {
     "name": "stdout",
     "output_type": "stream",
     "text": [
      "tensor([[[[[0.1947, 0.5631]],\n",
      "\n",
      "          [[0.5524, 0.5973]]]],\n",
      "\n",
      "\n",
      "\n",
      "        [[[[0.2889, 0.4118]],\n",
      "\n",
      "          [[0.5598, 0.9114]]]],\n",
      "\n",
      "\n",
      "\n",
      "        [[[[0.0097, 0.2511]],\n",
      "\n",
      "          [[0.2388, 0.3082]]]]])\n",
      "torch.Size([3, 1, 2, 1, 2])\n",
      "torch.Size([1, 2, 1, 2])\n",
      "tensor([[[[0.1947, 0.5631]],\n",
      "\n",
      "         [[0.5524, 0.5973]]]])\n",
      "tensor([[[0.1947, 0.5631]],\n",
      "\n",
      "        [[0.5524, 0.5973]]])\n",
      "tensor([[0.1947, 0.5631]])\n",
      "tensor([0.1947, 0.5631])\n"
     ]
    }
   ],
   "source": [
    "x = torch.rand(3, 1, 2, 1, 2)\n",
    "print(x)\n",
    "print(x.size())\n",
    "print(x[0].size())\n",
    "print(x[0])\n",
    "print(x[0][0])\n",
    "print(x[0][0][0])\n",
    "print(x[0][0][0][0])"
   ]
  },
  {
   "cell_type": "code",
   "execution_count": 51,
   "metadata": {
    "scrolled": true
   },
   "outputs": [
    {
     "name": "stdout",
     "output_type": "stream",
     "text": [
      "tensor([[[[[0.6483, 0.1980, 0.9609],\n",
      "           [0.2241, 0.1855, 0.0703]],\n",
      "\n",
      "          [[0.8873, 0.9315, 0.0210],\n",
      "           [0.1664, 0.5324, 0.6830]],\n",
      "\n",
      "          [[0.1575, 0.6777, 0.7062],\n",
      "           [0.7432, 0.4603, 0.0042]]],\n",
      "\n",
      "\n",
      "         [[[0.1151, 0.1472, 0.3498],\n",
      "           [0.6997, 0.5485, 0.2266]],\n",
      "\n",
      "          [[0.4920, 0.4458, 0.9442],\n",
      "           [0.7400, 0.1992, 0.9720]],\n",
      "\n",
      "          [[0.0834, 0.7722, 0.2784],\n",
      "           [0.9416, 0.8362, 0.6369]]]],\n",
      "\n",
      "\n",
      "\n",
      "        [[[[0.6723, 0.3798, 0.2053],\n",
      "           [0.6875, 0.9429, 0.3572]],\n",
      "\n",
      "          [[0.4337, 0.5411, 0.1714],\n",
      "           [0.8670, 0.0367, 0.1718]],\n",
      "\n",
      "          [[0.2370, 0.6608, 0.9129],\n",
      "           [0.0886, 0.5372, 0.0971]]],\n",
      "\n",
      "\n",
      "         [[[0.5860, 0.3129, 0.8105],\n",
      "           [0.4483, 0.1331, 0.3269]],\n",
      "\n",
      "          [[0.1924, 0.0898, 0.4257],\n",
      "           [0.5605, 0.5883, 0.8561]],\n",
      "\n",
      "          [[0.7988, 0.0118, 0.6087],\n",
      "           [0.6822, 0.6377, 0.7676]]]],\n",
      "\n",
      "\n",
      "\n",
      "        [[[[0.5659, 0.0879, 0.6163],\n",
      "           [0.6891, 0.3637, 0.1536]],\n",
      "\n",
      "          [[0.9129, 0.3560, 0.3141],\n",
      "           [0.5839, 0.3057, 0.7773]],\n",
      "\n",
      "          [[0.6001, 0.3095, 0.6636],\n",
      "           [0.8282, 0.8411, 0.7156]]],\n",
      "\n",
      "\n",
      "         [[[0.8274, 0.9981, 0.9010],\n",
      "           [0.1808, 0.6045, 0.3712]],\n",
      "\n",
      "          [[0.8069, 0.2505, 0.2431],\n",
      "           [0.7767, 0.2470, 0.4692]],\n",
      "\n",
      "          [[0.8920, 0.7600, 0.0031],\n",
      "           [0.3481, 0.0215, 0.5689]]]]])\n",
      "torch.Size([3, 2, 3, 2, 3])\n",
      "torch.Size([2, 3, 2, 3])\n",
      "tensor([[[[0.6483, 0.1980, 0.9609],\n",
      "          [0.2241, 0.1855, 0.0703]],\n",
      "\n",
      "         [[0.8873, 0.9315, 0.0210],\n",
      "          [0.1664, 0.5324, 0.6830]],\n",
      "\n",
      "         [[0.1575, 0.6777, 0.7062],\n",
      "          [0.7432, 0.4603, 0.0042]]],\n",
      "\n",
      "\n",
      "        [[[0.1151, 0.1472, 0.3498],\n",
      "          [0.6997, 0.5485, 0.2266]],\n",
      "\n",
      "         [[0.4920, 0.4458, 0.9442],\n",
      "          [0.7400, 0.1992, 0.9720]],\n",
      "\n",
      "         [[0.0834, 0.7722, 0.2784],\n",
      "          [0.9416, 0.8362, 0.6369]]]])\n",
      "tensor([[[0.6483, 0.1980, 0.9609],\n",
      "         [0.2241, 0.1855, 0.0703]],\n",
      "\n",
      "        [[0.8873, 0.9315, 0.0210],\n",
      "         [0.1664, 0.5324, 0.6830]],\n",
      "\n",
      "        [[0.1575, 0.6777, 0.7062],\n",
      "         [0.7432, 0.4603, 0.0042]]])\n",
      "tensor([[0.6483, 0.1980, 0.9609],\n",
      "        [0.2241, 0.1855, 0.0703]])\n",
      "tensor([0.6483, 0.1980, 0.9609])\n"
     ]
    }
   ],
   "source": [
    "x = torch.rand(3, 2, 3, 2, 3)\n",
    "print(x)\n",
    "print(x.size())\n",
    "print(x[0].size())\n",
    "print(x[0])\n",
    "print(x[0][0])\n",
    "print(x[0][0][0])\n",
    "print(x[0][0][0][0])"
   ]
  },
  {
   "cell_type": "code",
   "execution_count": 52,
   "metadata": {},
   "outputs": [
    {
     "name": "stdout",
     "output_type": "stream",
     "text": [
      "torch.Size([2, 1, 2, 1, 2])\n",
      "tensor([[[[[0.8657, 0.4864]],\n",
      "\n",
      "          [[0.7230, 0.2550]]]],\n",
      "\n",
      "\n",
      "\n",
      "        [[[[0.4628, 0.1672]],\n",
      "\n",
      "          [[0.0824, 0.2315]]]]])\n",
      "##################\n",
      "torch.Size([2, 2, 2])\n",
      "tensor([[[0.8657, 0.4864],\n",
      "         [0.7230, 0.2550]],\n",
      "\n",
      "        [[0.4628, 0.1672],\n",
      "         [0.0824, 0.2315]]])\n",
      "tensor([[0.8657, 0.4864],\n",
      "        [0.7230, 0.2550]])\n",
      "tensor([0.8657, 0.4864])\n",
      "##################\n",
      "torch.Size([2, 1, 2, 1, 2])\n",
      "tensor([[[[[0.8657, 0.4864]],\n",
      "\n",
      "          [[0.7230, 0.2550]]]],\n",
      "\n",
      "\n",
      "\n",
      "        [[[[0.4628, 0.1672]],\n",
      "\n",
      "          [[0.0824, 0.2315]]]]])\n",
      "tensor([[[[0.8657, 0.4864]],\n",
      "\n",
      "         [[0.7230, 0.2550]]]])\n",
      "tensor([[[0.8657, 0.4864]],\n",
      "\n",
      "        [[0.7230, 0.2550]]])\n",
      "##################\n",
      "torch.Size([2, 2, 1, 2])\n",
      "tensor([[[[0.8657, 0.4864]],\n",
      "\n",
      "         [[0.7230, 0.2550]]],\n",
      "\n",
      "\n",
      "        [[[0.4628, 0.1672]],\n",
      "\n",
      "         [[0.0824, 0.2315]]]])\n",
      "tensor([[[0.8657, 0.4864]],\n",
      "\n",
      "        [[0.7230, 0.2550]]])\n",
      "tensor([[0.8657, 0.4864]])\n"
     ]
    }
   ],
   "source": [
    "x = torch.rand(2, 1, 2, 1, 2)\n",
    "print(x.size())\n",
    "print(x)\n",
    "print(\"##################\")\n",
    "y = torch.squeeze(x)\n",
    "print(y.size())\n",
    "print(y)\n",
    "print(y[0])\n",
    "print(y[0][0])\n",
    "\n",
    "print(\"##################\")\n",
    "y = torch.squeeze(x, 0)\n",
    "print(y.size())\n",
    "print(y)\n",
    "print(y[0])\n",
    "print(y[0][0])\n",
    "print(\"##################\")\n",
    "y = torch.squeeze(x, 1)\n",
    "print(y.size())\n",
    "print(y)\n",
    "print(y[0])\n",
    "print(y[0][0])"
   ]
  },
  {
   "cell_type": "code",
   "execution_count": 53,
   "metadata": {},
   "outputs": [
    {
     "name": "stdout",
     "output_type": "stream",
     "text": [
      "tensor([[1, 2, 3, 4]])\n",
      "tensor([[1],\n",
      "        [2],\n",
      "        [3],\n",
      "        [4]])\n"
     ]
    }
   ],
   "source": [
    "x = torch.tensor([1, 2, 3, 4])\n",
    "print(torch.unsqueeze(x, 0))\n",
    "print(torch.unsqueeze(x, 1))\n"
   ]
  },
  {
   "cell_type": "code",
   "execution_count": 54,
   "metadata": {},
   "outputs": [
    {
     "name": "stdout",
     "output_type": "stream",
     "text": [
      "tensor([[[ 0.7954, -0.3675],\n",
      "         [ 0.9377,  1.7704]],\n",
      "\n",
      "        [[ 1.6999, -0.4509],\n",
      "         [-0.9554, -0.4467]],\n",
      "\n",
      "        [[-0.7611,  0.8265],\n",
      "         [-0.7943,  0.2559]]])\n",
      "tensor([[[1., 1.],\n",
      "         [1., 1.]],\n",
      "\n",
      "        [[1., 1.],\n",
      "         [1., 1.]],\n",
      "\n",
      "        [[1., 1.],\n",
      "         [1., 1.]]])\n",
      "tensor([[[0.7954, 1.0000],\n",
      "         [0.9377, 1.7704]],\n",
      "\n",
      "        [[1.6999, 1.0000],\n",
      "         [1.0000, 1.0000]],\n",
      "\n",
      "        [[1.0000, 0.8265],\n",
      "         [1.0000, 0.2559]]])\n"
     ]
    }
   ],
   "source": [
    "x = torch.randn(3, 2, 2)\n",
    "y = torch.ones(3, 2, 2)\n",
    "print(x)\n",
    "print(y)\n",
    "out = torch.where(x > 0, x, y)\n",
    "print(out)"
   ]
  },
  {
   "cell_type": "markdown",
   "metadata": {},
   "source": [
    "_______________"
   ]
  },
  {
   "cell_type": "markdown",
   "metadata": {},
   "source": [
    "###########"
   ]
  },
  {
   "cell_type": "code",
   "execution_count": 56,
   "metadata": {},
   "outputs": [
    {
     "name": "stdout",
     "output_type": "stream",
     "text": [
      "tensor([0.0596, 0.7441, 0.3820])\n"
     ]
    }
   ],
   "source": [
    "x = torch.rand(3, requires_grad=False)\n",
    "print(x)\n",
    "#data"
   ]
  },
  {
   "cell_type": "code",
   "execution_count": 61,
   "metadata": {},
   "outputs": [
    {
     "name": "stdout",
     "output_type": "stream",
     "text": [
      "tensor([0.0965, 0.4672, 0.5187], requires_grad=True)\n"
     ]
    }
   ],
   "source": [
    "y = torch.rand(3, requires_grad=True)\n",
    "print(y)\n",
    "#weights"
   ]
  },
  {
   "cell_type": "code",
   "execution_count": 57,
   "metadata": {},
   "outputs": [
    {
     "name": "stdout",
     "output_type": "stream",
     "text": [
      "tensor([2.0596, 2.7441, 2.3820])\n",
      "tensor([0.1193, 1.4881, 0.7640])\n",
      "tensor([0.0036, 0.5536, 0.1459])\n",
      "tensor([0.8452, 0.8025, 0.6924])\n",
      "tensor(0.3952)\n"
     ]
    }
   ],
   "source": [
    "y = x+2\n",
    "print(y)\n",
    "z = x*2\n",
    "print(z)\n",
    "t = x*x\n",
    "print(t)\n",
    "g = x**x\n",
    "print(g)\n",
    "mean = x.mean()\n",
    "print(mean)"
   ]
  },
  {
   "cell_type": "code",
   "execution_count": 62,
   "metadata": {},
   "outputs": [
    {
     "name": "stdout",
     "output_type": "stream",
     "text": [
      "tensor(0.3608, grad_fn=<MeanBackward0>)\n",
      "tensor([0.3333, 0.3333, 0.3333])\n"
     ]
    }
   ],
   "source": [
    " mean= y.mean()\n",
    "print(mean)\n",
    "mean.backward()\n",
    "print(y.grad)"
   ]
  },
  {
   "cell_type": "code",
   "execution_count": null,
   "metadata": {},
   "outputs": [],
   "source": [
    "g.backward(x)\n",
    "x.grad"
   ]
  },
  {
   "cell_type": "code",
   "execution_count": null,
   "metadata": {},
   "outputs": [],
   "source": [
    "x.requires_grad_(False) #inplace\n",
    "x.detach()\n",
    "with torch.no_grad():\n",
    "    operation...."
   ]
  }
 ],
 "metadata": {
  "kernelspec": {
   "display_name": "Python 3",
   "language": "python",
   "name": "python3"
  },
  "language_info": {
   "codemirror_mode": {
    "name": "ipython",
    "version": 3
   },
   "file_extension": ".py",
   "mimetype": "text/x-python",
   "name": "python",
   "nbconvert_exporter": "python",
   "pygments_lexer": "ipython3",
   "version": "3.7.6"
  }
 },
 "nbformat": 4,
 "nbformat_minor": 4
}
