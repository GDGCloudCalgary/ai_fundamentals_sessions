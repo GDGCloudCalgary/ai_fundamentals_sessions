{
 "cells": [
  {
   "cell_type": "code",
   "execution_count": 1,
   "metadata": {},
   "outputs": [],
   "source": [
    "import torch\n",
    "import numpy as np\n",
    "#https://pytorch.org/docs/stable/data.html"
   ]
  },
  {
   "cell_type": "code",
   "execution_count": 3,
   "metadata": {},
   "outputs": [],
   "source": [
    "import torchvision\n",
    "from torchvision import transforms, datasets"
   ]
  },
  {
   "cell_type": "code",
   "execution_count": 6,
   "metadata": {},
   "outputs": [],
   "source": [
    "train = datasets.MNIST(\"\", train=True, download=True, transform=transforms.Compose([transforms.ToTensor()]))\n",
    "\n",
    "test = datasets.MNIST(\"\", train=False, download=True, transform=transforms.Compose([transforms.ToTensor()]))\n"
   ]
  },
  {
   "cell_type": "code",
   "execution_count": null,
   "metadata": {},
   "outputs": [],
   "source": [
    "type(train)"
   ]
  },
  {
   "cell_type": "code",
   "execution_count": 10,
   "metadata": {},
   "outputs": [],
   "source": [
    "train = torch.utils.data.DataLoader(train, batch_size=32, shuffle=True)\n",
    "test = torch.utils.data.DataLoader(test, batch_size=32, shuffle=True)"
   ]
  },
  {
   "cell_type": "code",
   "execution_count": null,
   "metadata": {},
   "outputs": [],
   "source": [
    "type(train)"
   ]
  },
  {
   "cell_type": "code",
   "execution_count": null,
   "metadata": {},
   "outputs": [],
   "source": [
    "train.batch_size"
   ]
  },
  {
   "cell_type": "code",
   "execution_count": null,
   "metadata": {},
   "outputs": [],
   "source": [
    "train.dataset"
   ]
  },
  {
   "cell_type": "code",
   "execution_count": null,
   "metadata": {},
   "outputs": [],
   "source": [
    "train[0]"
   ]
  },
  {
   "cell_type": "code",
   "execution_count": null,
   "metadata": {
    "scrolled": true
   },
   "outputs": [],
   "source": [
    "list(train)[0]"
   ]
  },
  {
   "cell_type": "code",
   "execution_count": null,
   "metadata": {},
   "outputs": [],
   "source": [
    "for d in train:\n",
    "    print(len(d))\n",
    "    print(\"first element\")\n",
    "    print(len(d[0]), type(d[0]))\n",
    "    print(\"second element\")\n",
    "    print(len(d[1]), type(d[1]))\n",
    "    break"
   ]
  },
  {
   "cell_type": "code",
   "execution_count": null,
   "metadata": {
    "scrolled": true
   },
   "outputs": [],
   "source": [
    "for d in train:\n",
    "    print(len(d))\n",
    "    print(\"first element\")\n",
    "    print(d[0].size())\n",
    "    print(\"second element\")\n",
    "    print(d[1].size())\n",
    "    print(d[0])\n",
    "    print(type(d[0][0]), d[0][0].size())\n",
    "    img = d[0][0]\n",
    "    break"
   ]
  },
  {
   "cell_type": "code",
   "execution_count": null,
   "metadata": {
    "scrolled": true
   },
   "outputs": [],
   "source": [
    "#visualize the image\n",
    "img = img.view(28,28)"
   ]
  },
  {
   "cell_type": "code",
   "execution_count": 160,
   "metadata": {},
   "outputs": [],
   "source": [
    "import matplotlib.pyplot as plt\n",
    "plt.imshow(img)\n",
    "plt.show()"
   ]
  },
  {
   "cell_type": "code",
   "execution_count": null,
   "metadata": {},
   "outputs": [],
   "source": [
    "i=0\n",
    "for d in train:\n",
    "    if i==0:\n",
    "        print(d[0].size())\n",
    "        print(d[0].squeeze(0).size())\n",
    "        print(d[0].squeeze(1).size())\n",
    "        print(d[1].size())\n",
    "        print(d[1])\n",
    "        print(d[1].squeeze(0))\n",
    "        print(d[1].unsqueeze(0))\n",
    "        all_labels = d[1].unsqueeze(0)\n",
    "    else:\n",
    "        all_labels = torch.cat((all_labels, d[1].unsqueeze(0)),0)\n",
    "    i=i+1\n",
    "print(all_labels)\n",
    "print(all_labels.unsqueeze(1))\n",
    "print(all_labels.unsqueeze(0))\n",
    "print(all_labels.squeeze(1))\n",
    "print(all_labels.squeeze(0))"
   ]
  },
  {
   "cell_type": "code",
   "execution_count": null,
   "metadata": {},
   "outputs": [],
   "source": [
    "print(all_labels.view((-1,1)))\n",
    "print(all_labels.view((1,-1)))\n",
    "print(all_labels.view((1,-1)).squeeze(0))\n",
    "all_labels = all_labels.view((1,-1)).squeeze(0)"
   ]
  },
  {
   "cell_type": "code",
   "execution_count": null,
   "metadata": {},
   "outputs": [],
   "source": [
    "totc = 0\n",
    "count = len(all_labels)\n",
    "for i in torch.unique(all_labels):\n",
    "    tmp = ((all_labels == i).sum(dim=0).item())\n",
    "    print(i, tmp, 100*tmp/count)\n",
    "    totc += tmp\n",
    "    \n",
    "print(totc)"
   ]
  },
  {
   "cell_type": "code",
   "execution_count": null,
   "metadata": {},
   "outputs": [],
   "source": [
    "totc == len(train)*32 == len(all_labels)"
   ]
  },
  {
   "cell_type": "code",
   "execution_count": 126,
   "metadata": {},
   "outputs": [],
   "source": [
    "#neural_network classes\n",
    "import torch.nn as nn\n",
    "#mathematical functions (helper functions)\n",
    "import torch.nn.functional as F\n",
    "import torch.optim as optim\n"
   ]
  },
  {
   "cell_type": "markdown",
   "metadata": {},
   "source": [
    "Creating a Neural Network Child class where parent is implemented in torch.nn\n"
   ]
  },
  {
   "cell_type": "code",
   "execution_count": 132,
   "metadata": {},
   "outputs": [],
   "source": [
    "class Hidden3Layer_MLP_Flattened_Image_Net(nn.Module):\n",
    "    def __init__(self,no_neurons=64,dims_img=(), no_out_classes=0):\n",
    "        #initialize with the parent class' default implementation\n",
    "        super().__init__()\n",
    "        #First Fully Connected Layer - Takes Images as Input \n",
    "        self.fc1 = nn.Linear(dims_img[0]*dims_img[1],no_neurons)\n",
    "        self.fc2 = nn.Linear(no_neurons,no_neurons)\n",
    "        self.fc3 = nn.Linear(no_neurons,no_neurons)\n",
    "        self.fc4 = nn.Linear(no_neurons, no_out_classes)\n",
    "\n",
    "    def forward(self, x):\n",
    "        x = F.relu(self.fc1(x))\n",
    "        x = F.relu(self.fc2(x))\n",
    "        x = F.relu(self.fc3(x))\n",
    "        x = self.fc4(x)\n",
    "        prediction_distribution = F.log_softmax(x, dim=1)\n",
    "        return prediction_distribution"
   ]
  },
  {
   "cell_type": "code",
   "execution_count": 133,
   "metadata": {},
   "outputs": [],
   "source": [
    "net_obj = Hidden3Layer_MLP_Flattened_Image_Net(no_neurons=64,dims_img=(28,28), no_out_classes=10)"
   ]
  },
  {
   "cell_type": "code",
   "execution_count": null,
   "metadata": {},
   "outputs": [],
   "source": [
    "X = torch.rand(28,28).view(1,-1)\n",
    "print(X)\n",
    "net_obj.forward(X)"
   ]
  },
  {
   "cell_type": "code",
   "execution_count": null,
   "metadata": {
    "scrolled": true
   },
   "outputs": [],
   "source": [
    "X = torch.rand(28,28).view(1,-1)\n",
    "print(X)\n",
    "net_obj(X)"
   ]
  },
  {
   "cell_type": "code",
   "execution_count": 143,
   "metadata": {},
   "outputs": [],
   "source": [
    "net_obj = Hidden3Layer_MLP_Flattened_Image_Net(no_neurons=64,dims_img=(28,28), no_out_classes=10)"
   ]
  },
  {
   "cell_type": "code",
   "execution_count": null,
   "metadata": {},
   "outputs": [],
   "source": [
    "#negative log loss \n",
    "optimizer = optim.Adam(net_obj.parameters(), lr=0.01)\n",
    "Epochs = 20\n",
    "for epoch in range(Epochs):\n",
    "    for data in train:\n",
    "        X, y = data\n",
    "        net_obj.zero_grad()\n",
    "        output = net_obj(X.view(-1, 28*28))\n",
    "        loss = F.nll_loss(output, y)\n",
    "        loss.backward()\n",
    "        optimizer.step()\n",
    "    print(loss)\n",
    "    "
   ]
  },
  {
   "cell_type": "code",
   "execution_count": null,
   "metadata": {},
   "outputs": [],
   "source": [
    "#computing accuracy\n",
    "correct = 0\n",
    "total = 0\n",
    "\n",
    "with torch.no_grad():\n",
    "    for data in train:\n",
    "        X, y = data\n",
    "        output = net_obj(X.view(-1, 28*28))\n",
    "        for idx, i in enumerate(output):\n",
    "            if torch.argmax(i) == y[idx]:\n",
    "                correct += 1\n",
    "            total += 1\n",
    "print(\"Train Accuracy:\", correct/total)"
   ]
  },
  {
   "cell_type": "code",
   "execution_count": null,
   "metadata": {},
   "outputs": [],
   "source": [
    "#computing accuracy\n",
    "correct = 0\n",
    "total = 0\n",
    "\n",
    "with torch.no_grad():\n",
    "    for data in test:\n",
    "        X, y = data\n",
    "        output = net_obj(X.view(-1, 28*28))\n",
    "        for idx, i in enumerate(output):\n",
    "            if torch.argmax(i) == y[idx]:\n",
    "                correct += 1\n",
    "            total += 1\n",
    "print(\"Test Accuracy:\", correct/total)"
   ]
  },
  {
   "cell_type": "code",
   "execution_count": null,
   "metadata": {},
   "outputs": [],
   "source": [
    "for d in test:\n",
    "    print((d[0][0].size()))\n",
    "    im=d[0][0].view(28,28)\n",
    "    plt.imshow(im)\n",
    "    plt.show()\n",
    "    print(\"label:\", torch.argmax(net_obj(d[0][0].view(-1, 28*28))[0]))\n",
    "    break"
   ]
  },
  {
   "cell_type": "markdown",
   "metadata": {},
   "source": [
    "______"
   ]
  },
  {
   "cell_type": "markdown",
   "metadata": {},
   "source": [
    "1) Design model (input, output, hidden layers, no_neurons per hidden layer, activation function.\n",
    "\n",
    "2) Construct training loop: loss function, optimizer function, learning rate, no epochs\n",
    "\n",
    "3) Train:\n",
    "   - forward pass: compute prediction (no gradient update)\n",
    "   - compute loss: (no gradients update)\n",
    "   - backward pass and update weights - update gradients - w_new = w_old + K*grad \n",
    "   - keep training till some criterion is met (Training accuracy/ dev accuracy/ no of epochs .....)\n",
    "   \n",
    "4) Compute test set accuracy - no gradient update."
   ]
  },
  {
   "cell_type": "markdown",
   "metadata": {},
   "source": [
    "____"
   ]
  },
  {
   "cell_type": "code",
   "execution_count": null,
   "metadata": {},
   "outputs": [],
   "source": []
  },
  {
   "cell_type": "code",
   "execution_count": null,
   "metadata": {},
   "outputs": [],
   "source": []
  }
 ],
 "metadata": {
  "kernelspec": {
   "display_name": "Python 3",
   "language": "python",
   "name": "python3"
  },
  "language_info": {
   "codemirror_mode": {
    "name": "ipython",
    "version": 3
   },
   "file_extension": ".py",
   "mimetype": "text/x-python",
   "name": "python",
   "nbconvert_exporter": "python",
   "pygments_lexer": "ipython3",
   "version": "3.7.6"
  }
 },
 "nbformat": 4,
 "nbformat_minor": 4
}
